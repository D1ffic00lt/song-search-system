{
 "cells": [
  {
   "cell_type": "code",
   "execution_count": 1,
   "id": "initial_id",
   "metadata": {
    "collapsed": true,
    "id": "initial_id"
   },
   "outputs": [],
   "source": [
    "import pandas as pd\n",
    "import numpy as np\n",
    "import matplotlib.pyplot as plt\n",
    "\n",
    "from gensim.models import Word2Vec\n",
    "from gensim.utils import simple_preprocess\n",
    "from sklearn.decomposition import PCA\n",
    "from tqdm.auto import tqdm"
   ]
  },
  {
   "cell_type": "code",
   "execution_count": 2,
   "id": "57552709592395c",
   "metadata": {
    "id": "57552709592395c"
   },
   "outputs": [],
   "source": [
    "tqdm.pandas()"
   ]
  },
  {
   "cell_type": "code",
   "execution_count": 3,
   "id": "9e10e5118ff5133d",
   "metadata": {
    "id": "9e10e5118ff5133d"
   },
   "outputs": [],
   "source": [
    "def reduce_mem_usage(df: pd.DataFrame) -> pd.DataFrame:\n",
    "    start_mem = df.memory_usage().sum() / 1024 ** 2\n",
    "    print('Memory usage of dataframe is {:.2f} MB'.format(start_mem))\n",
    "    for col in df.columns:\n",
    "        col_type = df[col].dtype.name\n",
    "        if col_type not in ['object', 'category', 'datetime64[ns, UTC]']:\n",
    "            c_min = df[col].min()\n",
    "            c_max = df[col].max()\n",
    "            if str(col_type)[:3] == 'int':\n",
    "                if c_min > np.iinfo(np.int8).min and c_max < np.iinfo(np.int8).max:\n",
    "                    df[col] = df[col].astype(np.int8)\n",
    "                elif c_min > np.iinfo(np.int16).min and c_max < np.iinfo(np.int16).max:\n",
    "                    df[col] = df[col].astype(np.int16)\n",
    "                elif c_min > np.iinfo(np.int32).min and c_max < np.iinfo(np.int32).max:\n",
    "                    df[col] = df[col].astype(np.int32)\n",
    "                elif c_min > np.iinfo(np.int64).min and c_max < np.iinfo(np.int64).max:\n",
    "                    df[col] = df[col].astype(np.int64)\n",
    "            else:\n",
    "                if c_min > np.finfo(np.float16).min and c_max < np.finfo(np.float16).max:\n",
    "                    df[col] = df[col].astype(np.float16)\n",
    "                elif c_min > np.finfo(np.float32).min and c_max < np.finfo(np.float32).max:\n",
    "                    df[col] = df[col].astype(np.float32)\n",
    "                else:\n",
    "                    df[col] = df[col].astype(np.float64)\n",
    "    end_mem = df.memory_usage().sum() / 1024 ** 2\n",
    "    print('Memory usage after optimization is: {:.2f} MB'.format(end_mem))\n",
    "    print('Decreased by {:.1f}%'.format(100 * (start_mem - end_mem) / start_mem))\n",
    "    return df"
   ]
  },
  {
   "cell_type": "code",
   "execution_count": null,
   "id": "CJKgdWMuqK_S",
   "metadata": {
    "colab": {
     "base_uri": "https://localhost:8080/"
    },
    "id": "CJKgdWMuqK_S",
    "outputId": "d1689c9c-900d-48af-b302-2628bf87b7e0"
   },
   "outputs": [
    {
     "name": "stdout",
     "output_type": "stream",
     "text": [
      "Warning: Looks like you're using an outdated `kagglehub` version, please consider updating (latest version: 0.3.5)\n",
      "Downloading from https://www.kaggle.com/api/v1/datasets/download/bwandowando/spotify-songs-with-attributes-and-lyrics?dataset_version_number=18...\n"
     ]
    },
    {
     "name": "stderr",
     "output_type": "stream",
     "text": [
      "100%|██████████| 894M/894M [00:46<00:00, 20.3MB/s]"
     ]
    },
    {
     "name": "stdout",
     "output_type": "stream",
     "text": [
      "Extracting files...\n"
     ]
    },
    {
     "name": "stderr",
     "output_type": "stream",
     "text": [
      "\n"
     ]
    },
    {
     "name": "stdout",
     "output_type": "stream",
     "text": [
      "Path to dataset files: /root/.cache/kagglehub/datasets/bwandowando/spotify-songs-with-attributes-and-lyrics/versions/18\n"
     ]
    }
   ],
   "source": [
    "import kagglehub\n",
    "\n",
    "path = kagglehub.dataset_download(\"bwandowando/spotify-songs-with-attributes-and-lyrics\")\n",
    "\n",
    "print(\"Path to dataset files:\", path)"
   ]
  },
  {
   "cell_type": "code",
   "execution_count": null,
   "id": "f75ba2099b51aef9",
   "metadata": {
    "id": "f75ba2099b51aef9"
   },
   "outputs": [],
   "source": [
    "attr_data = pd.read_csv(\n",
    "    \"/root/.cache/kagglehub/datasets/bwandowando/spotify-songs-with-attributes-and-lyrics/\"\n",
    "    \"versions/18/songs_with_attributes_and_lyrics.csv/songs_with_attributes_and_lyrics.csv\"\n",
    ")"
   ]
  },
  {
   "cell_type": "code",
   "execution_count": null,
   "id": "f25413d1f82db0ee",
   "metadata": {
    "colab": {
     "base_uri": "https://localhost:8080/"
    },
    "id": "f25413d1f82db0ee",
    "outputId": "34254cc4-d179-4fd3-fdbb-27b108302693"
   },
   "outputs": [
    {
     "data": {
      "text/plain": [
       "(955320, 17)"
      ]
     },
     "execution_count": 6,
     "metadata": {},
     "output_type": "execute_result"
    }
   ],
   "source": [
    "attr_data.shape"
   ]
  },
  {
   "cell_type": "code",
   "execution_count": null,
   "id": "5270b0afcb8419f6",
   "metadata": {
    "colab": {
     "base_uri": "https://localhost:8080/"
    },
    "id": "5270b0afcb8419f6",
    "outputId": "ddad7102-c4dd-4a41-cda8-0d69cdf6a095"
   },
   "outputs": [
    {
     "name": "stdout",
     "output_type": "stream",
     "text": [
      "Memory usage of dataframe is 123.90 MB\n",
      "Memory usage after optimization is: 71.06 MB\n",
      "Decreased by 42.6%\n"
     ]
    }
   ],
   "source": [
    "attr_data = reduce_mem_usage(attr_data)"
   ]
  },
  {
   "cell_type": "code",
   "execution_count": null,
   "id": "20bdacd0ac17d14",
   "metadata": {
    "colab": {
     "base_uri": "https://localhost:8080/"
    },
    "id": "20bdacd0ac17d14",
    "outputId": "2be52aa4-1de3-410c-8f5e-0645f3060163"
   },
   "outputs": [
    {
     "data": {
      "text/plain": [
       "955320"
      ]
     },
     "execution_count": 9,
     "metadata": {},
     "output_type": "execute_result"
    }
   ],
   "source": [
    "attr_data.id.nunique()"
   ]
  },
  {
   "cell_type": "code",
   "execution_count": null,
   "id": "1f9a8e79ca5d73db",
   "metadata": {
    "colab": {
     "base_uri": "https://localhost:8080/",
     "height": 610
    },
    "id": "1f9a8e79ca5d73db",
    "outputId": "520d3dbe-8470-4975-d1b4-a14e96559099"
   },
   "outputs": [
    {
     "data": {
      "text/html": [
       "<div>\n",
       "<style scoped>\n",
       "    .dataframe tbody tr th:only-of-type {\n",
       "        vertical-align: middle;\n",
       "    }\n",
       "\n",
       "    .dataframe tbody tr th {\n",
       "        vertical-align: top;\n",
       "    }\n",
       "\n",
       "    .dataframe thead th {\n",
       "        text-align: right;\n",
       "    }\n",
       "</style>\n",
       "<table border=\"1\" class=\"dataframe\">\n",
       "  <thead>\n",
       "    <tr style=\"text-align: right;\">\n",
       "      <th></th>\n",
       "      <th>0</th>\n",
       "    </tr>\n",
       "  </thead>\n",
       "  <tbody>\n",
       "    <tr>\n",
       "      <th>id</th>\n",
       "      <td>0</td>\n",
       "    </tr>\n",
       "    <tr>\n",
       "      <th>name</th>\n",
       "      <td>11</td>\n",
       "    </tr>\n",
       "    <tr>\n",
       "      <th>album_name</th>\n",
       "      <td>569763</td>\n",
       "    </tr>\n",
       "    <tr>\n",
       "      <th>artists</th>\n",
       "      <td>2</td>\n",
       "    </tr>\n",
       "    <tr>\n",
       "      <th>danceability</th>\n",
       "      <td>0</td>\n",
       "    </tr>\n",
       "    <tr>\n",
       "      <th>energy</th>\n",
       "      <td>0</td>\n",
       "    </tr>\n",
       "    <tr>\n",
       "      <th>key</th>\n",
       "      <td>0</td>\n",
       "    </tr>\n",
       "    <tr>\n",
       "      <th>loudness</th>\n",
       "      <td>0</td>\n",
       "    </tr>\n",
       "    <tr>\n",
       "      <th>mode</th>\n",
       "      <td>0</td>\n",
       "    </tr>\n",
       "    <tr>\n",
       "      <th>speechiness</th>\n",
       "      <td>0</td>\n",
       "    </tr>\n",
       "    <tr>\n",
       "      <th>acousticness</th>\n",
       "      <td>0</td>\n",
       "    </tr>\n",
       "    <tr>\n",
       "      <th>instrumentalness</th>\n",
       "      <td>0</td>\n",
       "    </tr>\n",
       "    <tr>\n",
       "      <th>liveness</th>\n",
       "      <td>0</td>\n",
       "    </tr>\n",
       "    <tr>\n",
       "      <th>valence</th>\n",
       "      <td>0</td>\n",
       "    </tr>\n",
       "    <tr>\n",
       "      <th>tempo</th>\n",
       "      <td>0</td>\n",
       "    </tr>\n",
       "    <tr>\n",
       "      <th>duration_ms</th>\n",
       "      <td>0</td>\n",
       "    </tr>\n",
       "    <tr>\n",
       "      <th>lyrics</th>\n",
       "      <td>13</td>\n",
       "    </tr>\n",
       "  </tbody>\n",
       "</table>\n",
       "</div><br><label><b>dtype:</b> int64</label>"
      ],
      "text/plain": [
       "id                       0\n",
       "name                    11\n",
       "album_name          569763\n",
       "artists                  2\n",
       "danceability             0\n",
       "energy                   0\n",
       "key                      0\n",
       "loudness                 0\n",
       "mode                     0\n",
       "speechiness              0\n",
       "acousticness             0\n",
       "instrumentalness         0\n",
       "liveness                 0\n",
       "valence                  0\n",
       "tempo                    0\n",
       "duration_ms              0\n",
       "lyrics                  13\n",
       "dtype: int64"
      ]
     },
     "execution_count": 11,
     "metadata": {},
     "output_type": "execute_result"
    }
   ],
   "source": [
    "attr_data.isna().sum()"
   ]
  },
  {
   "cell_type": "code",
   "execution_count": null,
   "id": "e0c9f64f678f887f",
   "metadata": {
    "id": "e0c9f64f678f887f"
   },
   "outputs": [],
   "source": [
    "data = attr_data.dropna(subset=[\"name\", \"artists\", \"lyrics\"])"
   ]
  },
  {
   "cell_type": "code",
   "execution_count": null,
   "id": "f3602aa6b50db7",
   "metadata": {
    "id": "f3602aa6b50db7"
   },
   "outputs": [],
   "source": [
    "data = data.drop(\"album_name\", axis=1)"
   ]
  },
  {
   "cell_type": "code",
   "execution_count": null,
   "id": "f92c98d0bebaa19c",
   "metadata": {
    "id": "f92c98d0bebaa19c"
   },
   "outputs": [],
   "source": [
    "del attr_data"
   ]
  },
  {
   "cell_type": "code",
   "execution_count": null,
   "id": "460d3ddfde2e1ea9",
   "metadata": {
    "id": "460d3ddfde2e1ea9"
   },
   "outputs": [],
   "source": [
    "data.artists = data.artists.apply(lambda x: \", \".join(eval(x)) if \"['\" in x and \"']\" in x else x)"
   ]
  },
  {
   "cell_type": "code",
   "execution_count": null,
   "id": "18ec39a1ea964e5",
   "metadata": {
    "colab": {
     "base_uri": "https://localhost:8080/"
    },
    "id": "18ec39a1ea964e5",
    "outputId": "84967556-27d8-4d17-eea3-4be21e9a87da"
   },
   "outputs": [
    {
     "data": {
      "text/plain": [
       "71.06121826171875"
      ]
     },
     "execution_count": 16,
     "metadata": {},
     "output_type": "execute_result"
    }
   ],
   "source": [
    "data.memory_usage().sum() / 1024 ** 2"
   ]
  },
  {
   "cell_type": "code",
   "execution_count": null,
   "id": "ee0d5d19525c2b39",
   "metadata": {
    "colab": {
     "base_uri": "https://localhost:8080/"
    },
    "id": "ee0d5d19525c2b39",
    "outputId": "babc1d2e-2872-4d70-8239-c9d20c07a0cc"
   },
   "outputs": [
    {
     "name": "stdout",
     "output_type": "stream",
     "text": [
      "Memory usage of dataframe is 71.06 MB\n",
      "Memory usage after optimization is: 71.06 MB\n",
      "Decreased by 0.0%\n"
     ]
    }
   ],
   "source": [
    "data = reduce_mem_usage(data)"
   ]
  },
  {
   "cell_type": "code",
   "execution_count": null,
   "id": "474c949bbc78d669",
   "metadata": {
    "colab": {
     "base_uri": "https://localhost:8080/",
     "height": 579
    },
    "id": "474c949bbc78d669",
    "outputId": "f3648a33-41aa-4608-af44-7905df63c228"
   },
   "outputs": [
    {
     "data": {
      "text/html": [
       "<div>\n",
       "<style scoped>\n",
       "    .dataframe tbody tr th:only-of-type {\n",
       "        vertical-align: middle;\n",
       "    }\n",
       "\n",
       "    .dataframe tbody tr th {\n",
       "        vertical-align: top;\n",
       "    }\n",
       "\n",
       "    .dataframe thead th {\n",
       "        text-align: right;\n",
       "    }\n",
       "</style>\n",
       "<table border=\"1\" class=\"dataframe\">\n",
       "  <thead>\n",
       "    <tr style=\"text-align: right;\">\n",
       "      <th></th>\n",
       "      <th>0</th>\n",
       "    </tr>\n",
       "  </thead>\n",
       "  <tbody>\n",
       "    <tr>\n",
       "      <th>id</th>\n",
       "      <td>object</td>\n",
       "    </tr>\n",
       "    <tr>\n",
       "      <th>name</th>\n",
       "      <td>object</td>\n",
       "    </tr>\n",
       "    <tr>\n",
       "      <th>artists</th>\n",
       "      <td>object</td>\n",
       "    </tr>\n",
       "    <tr>\n",
       "      <th>danceability</th>\n",
       "      <td>float16</td>\n",
       "    </tr>\n",
       "    <tr>\n",
       "      <th>energy</th>\n",
       "      <td>float16</td>\n",
       "    </tr>\n",
       "    <tr>\n",
       "      <th>key</th>\n",
       "      <td>object</td>\n",
       "    </tr>\n",
       "    <tr>\n",
       "      <th>loudness</th>\n",
       "      <td>float16</td>\n",
       "    </tr>\n",
       "    <tr>\n",
       "      <th>mode</th>\n",
       "      <td>object</td>\n",
       "    </tr>\n",
       "    <tr>\n",
       "      <th>speechiness</th>\n",
       "      <td>float16</td>\n",
       "    </tr>\n",
       "    <tr>\n",
       "      <th>acousticness</th>\n",
       "      <td>float16</td>\n",
       "    </tr>\n",
       "    <tr>\n",
       "      <th>instrumentalness</th>\n",
       "      <td>float16</td>\n",
       "    </tr>\n",
       "    <tr>\n",
       "      <th>liveness</th>\n",
       "      <td>float16</td>\n",
       "    </tr>\n",
       "    <tr>\n",
       "      <th>valence</th>\n",
       "      <td>float16</td>\n",
       "    </tr>\n",
       "    <tr>\n",
       "      <th>tempo</th>\n",
       "      <td>float16</td>\n",
       "    </tr>\n",
       "    <tr>\n",
       "      <th>duration_ms</th>\n",
       "      <td>float32</td>\n",
       "    </tr>\n",
       "    <tr>\n",
       "      <th>lyrics</th>\n",
       "      <td>object</td>\n",
       "    </tr>\n",
       "  </tbody>\n",
       "</table>\n",
       "</div><br><label><b>dtype:</b> object</label>"
      ],
      "text/plain": [
       "id                   object\n",
       "name                 object\n",
       "artists              object\n",
       "danceability        float16\n",
       "energy              float16\n",
       "key                  object\n",
       "loudness            float16\n",
       "mode                 object\n",
       "speechiness         float16\n",
       "acousticness        float16\n",
       "instrumentalness    float16\n",
       "liveness            float16\n",
       "valence             float16\n",
       "tempo               float16\n",
       "duration_ms         float32\n",
       "lyrics               object\n",
       "dtype: object"
      ]
     },
     "execution_count": 18,
     "metadata": {},
     "output_type": "execute_result"
    }
   ],
   "source": [
    "data.dtypes"
   ]
  },
  {
   "cell_type": "code",
   "execution_count": null,
   "id": "4c0ca0de904c650b",
   "metadata": {
    "id": "4c0ca0de904c650b"
   },
   "outputs": [],
   "source": [
    "def process_text(text: str):\n",
    "    return \" \".join(\"\".join([i if i.isalpha() else \" \" for i in text]).lower().split())"
   ]
  },
  {
   "cell_type": "code",
   "execution_count": null,
   "id": "2f8046aaea16854b",
   "metadata": {
    "colab": {
     "base_uri": "https://localhost:8080/",
     "height": 49,
     "referenced_widgets": [
      "d85aaa9a223b4a0c9e536c0408fc3892",
      "1eebc30d97a34d15b23e3e6bb3fadd77",
      "bf44cf87331e47d997af22828ed8fffa",
      "9acdaf0c5d034ff28e0bd29390a99603",
      "e63a2c6f3d83475cb7e470e09055bbdd",
      "5f52a28b83e045fa9ce3f71ea124bd8f",
      "1d6ca948b0704ac28d6ed31d0e32e69d",
      "d1cbb0bd9d294bd68c52e6699c2918a0",
      "8873f94df02248fcaa70608d2335be3e",
      "ace4bb25a3b84d52b9ad8eb072e82ff2",
      "c2d4d8678b7d47b69aafa79a054ff19d"
     ]
    },
    "id": "2f8046aaea16854b",
    "outputId": "965fc3cb-8ac7-4bc8-e9b8-dcb118407bb7"
   },
   "outputs": [
    {
     "data": {
      "application/vnd.jupyter.widget-view+json": {
       "model_id": "d85aaa9a223b4a0c9e536c0408fc3892",
       "version_major": 2,
       "version_minor": 0
      },
      "text/plain": [
       "  0%|          | 0/955296 [00:00<?, ?it/s]"
      ]
     },
     "metadata": {},
     "output_type": "display_data"
    }
   ],
   "source": [
    "data[\"lyrics\"] = data.lyrics.progress_map(process_text)"
   ]
  },
  {
   "cell_type": "code",
   "execution_count": null,
   "id": "61ea2152b2dfd5ed",
   "metadata": {
    "colab": {
     "base_uri": "https://localhost:8080/",
     "height": 49,
     "referenced_widgets": [
      "7e0fbac76c9c40e3bf1dccc214c3b324",
      "eae4f9d829ad432da91ff5a1338f5c35",
      "e5e3b675510642eaa49cdc8a7db9bc01",
      "a33928b147d14ddfa2b53e6503eb85f9",
      "0c46700d82d64685bf002612354f3bd6",
      "475848be6d7d4f7799ff3eb1c861b6d4",
      "5d432ac985a24d97b7a8288bf1068808",
      "4c4afd993c364762b695a6036b30eb8f",
      "819bda52b396457c9af3e502283e2363",
      "90c8f47e5fc24f6bb483badb898f59b5",
      "f163ac2d0b1b4b8bafb2a2c58542efd4"
     ]
    },
    "id": "61ea2152b2dfd5ed",
    "outputId": "79d0ecec-ba6f-431c-8a7b-b509984e2b1b"
   },
   "outputs": [
    {
     "data": {
      "application/vnd.jupyter.widget-view+json": {
       "model_id": "7e0fbac76c9c40e3bf1dccc214c3b324",
       "version_major": 2,
       "version_minor": 0
      },
      "text/plain": [
       "  0%|          | 0/955296 [00:00<?, ?it/s]"
      ]
     },
     "metadata": {},
     "output_type": "display_data"
    }
   ],
   "source": [
    "data[\"lyrics\"] = data.lyrics.progress_map(simple_preprocess)"
   ]
  },
  {
   "cell_type": "code",
   "execution_count": null,
   "id": "62f98723a5b0508e",
   "metadata": {
    "id": "62f98723a5b0508e"
   },
   "outputs": [],
   "source": [
    "model = Word2Vec(sentences=data.lyrics.values, vector_size=100, window=5, min_count=1, workers=20, sg=0)"
   ]
  },
  {
   "cell_type": "code",
   "execution_count": null,
   "id": "20258846533ffdf8",
   "metadata": {
    "colab": {
     "base_uri": "https://localhost:8080/",
     "height": 631
    },
    "id": "20258846533ffdf8",
    "outputId": "bd2ae033-e901-4ed1-83a8-6f7e1fcb00d5"
   },
   "outputs": [
    {
     "name": "stdout",
     "output_type": "stream",
     "text": [
      "Words similar to 'word':\n",
      "prayer: 0.6817\n",
      "words: 0.6610\n",
      "syllable: 0.6456\n",
      "language: 0.6310\n",
      "single: 0.6040\n"
     ]
    },
    {
     "data": {
      "image/png": "[encoded data removed]",
      "text/plain": [
       "<Figure size 1000x800 with 1 Axes>"
      ]
     },
     "metadata": {},
     "output_type": "display_data"
    }
   ],
   "source": [
    "word_vectors = model.wv\n",
    "\n",
    "similar_words = word_vectors.most_similar(\"word\", topn=5)\n",
    "print(\"Words similar to 'word':\")\n",
    "for word, similarity in similar_words:\n",
    "    print(f\"{word}: {similarity:.4f}\")\n",
    "\n",
    "\n",
    "def plot_word_embeddings(word_vectors, words_to_plot):\n",
    "    vectors = [word_vectors[word] for word in words_to_plot]\n",
    "    pca = PCA(n_components=2)\n",
    "    reduced_vectors = pca.fit_transform(vectors)\n",
    "\n",
    "    plt.figure(figsize=(10, 8))\n",
    "    for word, vector in zip(words_to_plot, reduced_vectors):\n",
    "        plt.scatter(vector[0], vector[1])\n",
    "        plt.text(vector[0] + 0.01, vector[1] + 0.01, word, fontsize=12)\n",
    "    plt.title(\"Word Embeddings Visualization\")\n",
    "    plt.xlabel(\"PCA Dimension 1\")\n",
    "    plt.ylabel(\"PCA Dimension 2\")\n",
    "    plt.show()\n",
    "\n",
    "\n",
    "words_to_visualize = list(word_vectors.index_to_key)[:10]\n",
    "plot_word_embeddings(word_vectors, words_to_visualize)"
   ]
  },
  {
   "cell_type": "code",
   "execution_count": null,
   "id": "8Na2tuSf3zJw",
   "metadata": {
    "id": "8Na2tuSf3zJw"
   },
   "outputs": [],
   "source": [
    "model.save(\"word2vec_lyrics.model\")"
   ]
  },
  {
   "cell_type": "code",
   "execution_count": null,
   "id": "JlxIEtvA31uY",
   "metadata": {
    "colab": {
     "base_uri": "https://localhost:8080/"
    },
    "id": "JlxIEtvA31uY",
    "outputId": "ac39f054-73b0-4b86-f009-01ac1b5d766a"
   },
   "outputs": [
    {
     "data": {
      "text/plain": [
       "100"
      ]
     },
     "execution_count": 34,
     "metadata": {},
     "output_type": "execute_result"
    }
   ],
   "source": [
    "model.vector_size"
   ]
  },
  {
   "cell_type": "code",
   "execution_count": null,
   "id": "fgBtSZDV4Ek9",
   "metadata": {
    "colab": {
     "base_uri": "https://localhost:8080/"
    },
    "id": "fgBtSZDV4Ek9",
    "outputId": "9c5a8e5b-aa50-4078-bad2-feda569a3416"
   },
   "outputs": [
    {
     "data": {
      "text/plain": [
       "2101450"
      ]
     },
     "execution_count": 36,
     "metadata": {},
     "output_type": "execute_result"
    }
   ],
   "source": [
    "len(model.wv)"
   ]
  },
  {
   "cell_type": "code",
   "execution_count": null,
   "id": "GlsiSre74GJr",
   "metadata": {
    "colab": {
     "base_uri": "https://localhost:8080/"
    },
    "id": "GlsiSre74GJr",
    "outputId": "8fa5785e-72f4-444e-ce06-2e425991a4ca"
   },
   "outputs": [
    {
     "name": "stdout",
     "output_type": "stream",
     "text": [
      "Words similar to 'word':\n",
      "boy: 0.8401\n",
      "woman: 0.8120\n",
      "that: 0.7445\n",
      "girl: 0.7388\n",
      "he: 0.7345\n"
     ]
    }
   ],
   "source": [
    "similar_words = word_vectors.most_similar(\"man\", topn=5)\n",
    "print(\"Words similar to 'word':\")\n",
    "for word, similarity in similar_words:\n",
    "    print(f\"{word}: {similarity:.4f}\")"
   ]
  },
  {
   "cell_type": "code",
   "execution_count": null,
   "id": "P0XYdsoA4Q9C",
   "metadata": {
    "id": "P0XYdsoA4Q9C"
   },
   "outputs": [],
   "source": [
    "def sentence_to_vector(words, model):\n",
    "    word_vectors = [model.wv[word] for word in words if word in model.wv]\n",
    "    if not word_vectors:\n",
    "        return None\n",
    "    return sum(word_vectors) / len(word_vectors)"
   ]
  },
  {
   "cell_type": "code",
   "execution_count": null,
   "id": "iD9HzXif5cic",
   "metadata": {
    "colab": {
     "base_uri": "https://localhost:8080/",
     "height": 49,
     "referenced_widgets": [
      "258d19c3a9884064a3ba7bd7bdcabcc9",
      "402d5df0b13c4cc18faeaef3c5e67c80",
      "859b6d7e7e0c4db5aef8e1e12d9e9bdf",
      "36bb281dec634410b0732c7458c1d233",
      "f229e9c9e2094bfcadb6883213209125",
      "dd386b5c75dc43cca524ed4664752b6d",
      "dd58dbe9777d4db9b3828413799856f6",
      "2e392401cd654865937231bfab3c2ce9",
      "7eb3e9d722f342ec9c4a36556cb51abe",
      "cc87c2cda96b4b6facc6d003d0061fa5",
      "58751a46cd1e49ca9733370aaa75aa21"
     ]
    },
    "id": "iD9HzXif5cic",
    "outputId": "c12fe7fd-59ad-4e9f-c0a9-067b0b202dc8"
   },
   "outputs": [
    {
     "data": {
      "application/vnd.jupyter.widget-view+json": {
       "model_id": "258d19c3a9884064a3ba7bd7bdcabcc9",
       "version_major": 2,
       "version_minor": 0
      },
      "text/plain": [
       "  0%|          | 0/955296 [00:00<?, ?it/s]"
      ]
     },
     "metadata": {},
     "output_type": "display_data"
    }
   ],
   "source": [
    "vectors = data.lyrics.progress_map(lambda x: sentence_to_vector(x, model))"
   ]
  },
  {
   "cell_type": "code",
   "execution_count": null,
   "id": "IADlyTe-8wxD",
   "metadata": {
    "id": "IADlyTe-8wxD"
   },
   "outputs": [],
   "source": [
    "data = data.loc[data.lyrics.apply(lambda x: len(x) != 0)]"
   ]
  },
  {
   "cell_type": "code",
   "execution_count": null,
   "id": "TZzrG1dd9B7R",
   "metadata": {
    "id": "TZzrG1dd9B7R",
    "colab": {
     "base_uri": "https://localhost:8080/"
    },
    "outputId": "c29f6c40-2ee0-4767-e7cb-996493b1acb7"
   },
   "outputs": [
    {
     "output_type": "execute_result",
     "data": {
      "text/plain": [
       "(955278, 16)"
      ]
     },
     "metadata": {},
     "execution_count": 193
    }
   ],
   "source": [
    "data.shape"
   ]
  },
  {
   "cell_type": "code",
   "source": [
    "np.array(vectors).shape"
   ],
   "metadata": {
    "colab": {
     "base_uri": "https://localhost:8080/"
    },
    "id": "rtEAvVPKJ-xW",
    "outputId": "c5f21f0c-3dd7-40de-caf5-06577f4ed974"
   },
   "id": "rtEAvVPKJ-xW",
   "execution_count": null,
   "outputs": [
    {
     "output_type": "execute_result",
     "data": {
      "text/plain": [
       "(955278, 100)"
      ]
     },
     "metadata": {},
     "execution_count": 195
    }
   ]
  },
  {
   "cell_type": "code",
   "source": [
    "data = data.reset_index()\n",
    "data[list(range(100))] = np.array(vectors)"
   ],
   "metadata": {
    "colab": {
     "base_uri": "https://localhost:8080/"
    },
    "id": "w8kYH_7rKEMy",
    "outputId": "47f01006-c93d-4d9e-900c-78e426328813"
   },
   "id": "w8kYH_7rKEMy",
   "execution_count": null,
   "outputs": [
    {
     "output_type": "stream",
     "name": "stderr",
     "text": [
      "<ipython-input-196-bd7152917094>:2: PerformanceWarning: DataFrame is highly fragmented.  This is usually the result of calling `frame.insert` many times, which has poor performance.  Consider joining all columns at once using pd.concat(axis=1) instead. To get a de-fragmented frame, use `newframe = frame.copy()`\n",
      "  data[list(range(100))] = np.array(vectors)\n",
      "<ipython-input-196-bd7152917094>:2: PerformanceWarning: DataFrame is highly fragmented.  This is usually the result of calling `frame.insert` many times, which has poor performance.  Consider joining all columns at once using pd.concat(axis=1) instead. To get a de-fragmented frame, use `newframe = frame.copy()`\n",
      "  data[list(range(100))] = np.array(vectors)\n",
      "<ipython-input-196-bd7152917094>:2: PerformanceWarning: DataFrame is highly fragmented.  This is usually the result of calling `frame.insert` many times, which has poor performance.  Consider joining all columns at once using pd.concat(axis=1) instead. To get a de-fragmented frame, use `newframe = frame.copy()`\n",
      "  data[list(range(100))] = np.array(vectors)\n",
      "<ipython-input-196-bd7152917094>:2: PerformanceWarning: DataFrame is highly fragmented.  This is usually the result of calling `frame.insert` many times, which has poor performance.  Consider joining all columns at once using pd.concat(axis=1) instead. To get a de-fragmented frame, use `newframe = frame.copy()`\n",
      "  data[list(range(100))] = np.array(vectors)\n"
     ]
    }
   ]
  },
  {
   "cell_type": "code",
   "source": [
    "data.isna().sum().sum()"
   ],
   "metadata": {
    "colab": {
     "base_uri": "https://localhost:8080/"
    },
    "id": "TEuA2du-KNDO",
    "outputId": "8171a11f-4d11-401a-dff5-5144689d5602"
   },
   "id": "TEuA2du-KNDO",
   "execution_count": null,
   "outputs": [
    {
     "output_type": "execute_result",
     "data": {
      "text/plain": [
       "0"
      ]
     },
     "metadata": {},
     "execution_count": 197
    }
   ]
  },
  {
   "cell_type": "code",
   "source": [
    "data = reduce_mem_usage(data)"
   ],
   "metadata": {
    "colab": {
     "base_uri": "https://localhost:8080/"
    },
    "id": "4FgcVTLWKPvY",
    "outputId": "b93f2b85-da8f-4855-b167-d7200abe6109"
   },
   "id": "4FgcVTLWKPvY",
   "execution_count": null,
   "outputs": [
    {
     "output_type": "stream",
     "name": "stdout",
     "text": [
      "Memory usage of dataframe is 435.47 MB\n",
      "Memory usage after optimization is: 249.62 MB\n",
      "Decreased by 42.7%\n"
     ]
    }
   ]
  },
  {
   "cell_type": "code",
   "source": [
    "import faiss\n",
    "from sklearn.preprocessing import normalize\n",
    "\n",
    "item_embeddings = data[list(range(100))].values\n",
    "test_vector = sentence_to_vector(\"i m just a freak\".split(), model)\n"
   ],
   "metadata": {
    "id": "didIaw5jKSAy"
   },
   "id": "didIaw5jKSAy",
   "execution_count": null,
   "outputs": []
  },
  {
   "cell_type": "code",
   "source": [
    "item_embeddings = normalize(item_embeddings, axis=1)\n",
    "test_vector = normalize(test_vector.reshape(1, -1), axis=1)\n",
    "\n",
    "dimension = item_embeddings.shape[1]\n",
    "index = faiss.IndexFlatIP(dimension)\n",
    "index.add(item_embeddings)\n",
    "\n",
    "k = 10\n",
    "distances, indices = index.search(test_vector, k)\n",
    "\n",
    "print(\"Nearests neighbors indexes:\", indices[0])\n",
    "print(\"Similarity:\", distances[0])\n"
   ],
   "metadata": {
    "colab": {
     "base_uri": "https://localhost:8080/"
    },
    "id": "PgUHXKMpKplP",
    "outputId": "cf8d5109-3cb0-403b-b7e4-b3be1b2eac54"
   },
   "id": "PgUHXKMpKplP",
   "execution_count": null,
   "outputs": [
    {
     "output_type": "stream",
     "name": "stdout",
     "text": [
      "Индексы ближайших соседей: [ 51115 274289 274276 742640 274290 516568 688115 274385 872821 742756]\n",
      "Сходства: [0.9563412  0.9515437  0.9515437  0.94510216 0.9423716  0.93059605\n",
      " 0.9304216  0.92952377 0.928706   0.92846197]\n"
     ]
    }
   ]
  },
  {
   "cell_type": "code",
   "source": [
    "from google.colab import drive\n",
    "\n",
    "drive.mount('/content/drive')"
   ],
   "metadata": {
    "id": "3-4Uf3MHN1Hn",
    "colab": {
     "base_uri": "https://localhost:8080/"
    },
    "outputId": "500541e9-a928-4f9a-f38e-6e5f7346e832"
   },
   "id": "3-4Uf3MHN1Hn",
   "execution_count": 4,
   "outputs": [
    {
     "output_type": "stream",
     "name": "stdout",
     "text": [
      "Drive already mounted at /content/drive; to attempt to forcibly remount, call drive.mount(\"/content/drive\", force_remount=True).\n"
     ]
    }
   ]
  },
  {
   "cell_type": "code",
   "source": [
    "data = data.drop(\"lyrics\", axis=1)"
   ],
   "metadata": {
    "id": "WiQknfRoOxfd"
   },
   "id": "WiQknfRoOxfd",
   "execution_count": null,
   "outputs": []
  },
  {
   "cell_type": "code",
   "source": [
    "data.to_csv(\"./drive/MyDrive/vectors_final_data.csv\", index=False)"
   ],
   "metadata": {
    "id": "LBBcVzzUK2t7"
   },
   "id": "LBBcVzzUK2t7",
   "execution_count": null,
   "outputs": []
  },
  {
   "cell_type": "code",
   "source": [
    "data = data.drop(\"index\", axis=1)"
   ],
   "metadata": {
    "id": "b5FAEJuKXtOR"
   },
   "id": "b5FAEJuKXtOR",
   "execution_count": null,
   "outputs": []
  },
  {
   "cell_type": "code",
   "source": [
    "data.sample(5)"
   ],
   "metadata": {
    "colab": {
     "base_uri": "https://localhost:8080/",
     "height": 423
    },
    "id": "ZUA5WFjQX72s",
    "outputId": "5447206c-7d54-477b-f350-a5525936f2a4"
   },
   "id": "ZUA5WFjQX72s",
   "execution_count": null,
   "outputs": [
    {
     "output_type": "execute_result",
     "data": {
      "text/plain": [
       "                            id                            name    artists  \\\n",
       "851098  0hGuuLs6mg1U3D6uDebNhr    Verdeckte Aktion - Bonus-Mix       City   \n",
       "279594  5M39ClRYJKRB2vJBFLf904               Fuiste a Acapulco  Los Apson   \n",
       "923433  47spz8LqRfopFdO7GsQ7V8                    he's not you     VÉRITÉ   \n",
       "797534  0Uar43NSoMj9e0WatGjFsl  The Ugliest House On The Block  Beth Hart   \n",
       "703908  4ZrftZyqw3oxn2tWb3sCni                     Slow Motion     Kittie   \n",
       "\n",
       "        danceability    energy key  loudness mode  speechiness  acousticness  \\\n",
       "851098      0.607910  0.882812   0 -6.019531    1     0.063110      0.151001   \n",
       "279594      0.645020  0.705078   0 -6.789062    1     0.041687      0.816895   \n",
       "923433      0.806152  0.513184   0 -7.156250    1     0.050995      0.025208   \n",
       "797534      0.633789  0.750977  11 -7.480469    1     0.042603      0.098816   \n",
       "703908      0.239014  0.971191   7 -3.171875    0     0.101990      0.001310   \n",
       "\n",
       "        ...        90        91        92        93        94        95  \\\n",
       "851098  ... -0.181885 -0.981934 -0.220581  1.225586  0.965820 -0.013100   \n",
       "279594  ... -1.917969 -0.472900  2.156250  0.536133  2.410156 -1.541016   \n",
       "923433  ...  3.115234 -0.937500 -1.301758  2.015625  0.954590  3.232422   \n",
       "797534  ...  3.164062 -0.705078 -0.901367  1.892578 -0.159424  2.882812   \n",
       "703908  ...  3.853516 -0.837891 -2.160156  3.001953  0.744141  3.562500   \n",
       "\n",
       "              96        97        98        99  \n",
       "851098  0.012695  0.552734 -0.059296  1.170898  \n",
       "279594  0.656250  0.995117  2.003906 -0.779785  \n",
       "923433 -1.834961 -0.641113 -3.185547 -1.229492  \n",
       "797534 -1.147461 -0.267334 -2.937500 -0.716797  \n",
       "703908 -1.253906 -0.626953 -3.482422 -0.551270  \n",
       "\n",
       "[5 rows x 115 columns]"
      ],
      "text/html": [
       "\n",
       "  <div id=\"df-bef72a54-3e9e-45ff-bbbc-b96497b72b4a\" class=\"colab-df-container\">\n",
       "    <div>\n",
       "<style scoped>\n",
       "    .dataframe tbody tr th:only-of-type {\n",
       "        vertical-align: middle;\n",
       "    }\n",
       "\n",
       "    .dataframe tbody tr th {\n",
       "        vertical-align: top;\n",
       "    }\n",
       "\n",
       "    .dataframe thead th {\n",
       "        text-align: right;\n",
       "    }\n",
       "</style>\n",
       "<table border=\"1\" class=\"dataframe\">\n",
       "  <thead>\n",
       "    <tr style=\"text-align: right;\">\n",
       "      <th></th>\n",
       "      <th>id</th>\n",
       "      <th>name</th>\n",
       "      <th>artists</th>\n",
       "      <th>danceability</th>\n",
       "      <th>energy</th>\n",
       "      <th>key</th>\n",
       "      <th>loudness</th>\n",
       "      <th>mode</th>\n",
       "      <th>speechiness</th>\n",
       "      <th>acousticness</th>\n",
       "      <th>...</th>\n",
       "      <th>90</th>\n",
       "      <th>91</th>\n",
       "      <th>92</th>\n",
       "      <th>93</th>\n",
       "      <th>94</th>\n",
       "      <th>95</th>\n",
       "      <th>96</th>\n",
       "      <th>97</th>\n",
       "      <th>98</th>\n",
       "      <th>99</th>\n",
       "    </tr>\n",
       "  </thead>\n",
       "  <tbody>\n",
       "    <tr>\n",
       "      <th>851098</th>\n",
       "      <td>0hGuuLs6mg1U3D6uDebNhr</td>\n",
       "      <td>Verdeckte Aktion - Bonus-Mix</td>\n",
       "      <td>City</td>\n",
       "      <td>0.607910</td>\n",
       "      <td>0.882812</td>\n",
       "      <td>0</td>\n",
       "      <td>-6.019531</td>\n",
       "      <td>1</td>\n",
       "      <td>0.063110</td>\n",
       "      <td>0.151001</td>\n",
       "      <td>...</td>\n",
       "      <td>-0.181885</td>\n",
       "      <td>-0.981934</td>\n",
       "      <td>-0.220581</td>\n",
       "      <td>1.225586</td>\n",
       "      <td>0.965820</td>\n",
       "      <td>-0.013100</td>\n",
       "      <td>0.012695</td>\n",
       "      <td>0.552734</td>\n",
       "      <td>-0.059296</td>\n",
       "      <td>1.170898</td>\n",
       "    </tr>\n",
       "    <tr>\n",
       "      <th>279594</th>\n",
       "      <td>5M39ClRYJKRB2vJBFLf904</td>\n",
       "      <td>Fuiste a Acapulco</td>\n",
       "      <td>Los Apson</td>\n",
       "      <td>0.645020</td>\n",
       "      <td>0.705078</td>\n",
       "      <td>0</td>\n",
       "      <td>-6.789062</td>\n",
       "      <td>1</td>\n",
       "      <td>0.041687</td>\n",
       "      <td>0.816895</td>\n",
       "      <td>...</td>\n",
       "      <td>-1.917969</td>\n",
       "      <td>-0.472900</td>\n",
       "      <td>2.156250</td>\n",
       "      <td>0.536133</td>\n",
       "      <td>2.410156</td>\n",
       "      <td>-1.541016</td>\n",
       "      <td>0.656250</td>\n",
       "      <td>0.995117</td>\n",
       "      <td>2.003906</td>\n",
       "      <td>-0.779785</td>\n",
       "    </tr>\n",
       "    <tr>\n",
       "      <th>923433</th>\n",
       "      <td>47spz8LqRfopFdO7GsQ7V8</td>\n",
       "      <td>he's not you</td>\n",
       "      <td>VÉRITÉ</td>\n",
       "      <td>0.806152</td>\n",
       "      <td>0.513184</td>\n",
       "      <td>0</td>\n",
       "      <td>-7.156250</td>\n",
       "      <td>1</td>\n",
       "      <td>0.050995</td>\n",
       "      <td>0.025208</td>\n",
       "      <td>...</td>\n",
       "      <td>3.115234</td>\n",
       "      <td>-0.937500</td>\n",
       "      <td>-1.301758</td>\n",
       "      <td>2.015625</td>\n",
       "      <td>0.954590</td>\n",
       "      <td>3.232422</td>\n",
       "      <td>-1.834961</td>\n",
       "      <td>-0.641113</td>\n",
       "      <td>-3.185547</td>\n",
       "      <td>-1.229492</td>\n",
       "    </tr>\n",
       "    <tr>\n",
       "      <th>797534</th>\n",
       "      <td>0Uar43NSoMj9e0WatGjFsl</td>\n",
       "      <td>The Ugliest House On The Block</td>\n",
       "      <td>Beth Hart</td>\n",
       "      <td>0.633789</td>\n",
       "      <td>0.750977</td>\n",
       "      <td>11</td>\n",
       "      <td>-7.480469</td>\n",
       "      <td>1</td>\n",
       "      <td>0.042603</td>\n",
       "      <td>0.098816</td>\n",
       "      <td>...</td>\n",
       "      <td>3.164062</td>\n",
       "      <td>-0.705078</td>\n",
       "      <td>-0.901367</td>\n",
       "      <td>1.892578</td>\n",
       "      <td>-0.159424</td>\n",
       "      <td>2.882812</td>\n",
       "      <td>-1.147461</td>\n",
       "      <td>-0.267334</td>\n",
       "      <td>-2.937500</td>\n",
       "      <td>-0.716797</td>\n",
       "    </tr>\n",
       "    <tr>\n",
       "      <th>703908</th>\n",
       "      <td>4ZrftZyqw3oxn2tWb3sCni</td>\n",
       "      <td>Slow Motion</td>\n",
       "      <td>Kittie</td>\n",
       "      <td>0.239014</td>\n",
       "      <td>0.971191</td>\n",
       "      <td>7</td>\n",
       "      <td>-3.171875</td>\n",
       "      <td>0</td>\n",
       "      <td>0.101990</td>\n",
       "      <td>0.001310</td>\n",
       "      <td>...</td>\n",
       "      <td>3.853516</td>\n",
       "      <td>-0.837891</td>\n",
       "      <td>-2.160156</td>\n",
       "      <td>3.001953</td>\n",
       "      <td>0.744141</td>\n",
       "      <td>3.562500</td>\n",
       "      <td>-1.253906</td>\n",
       "      <td>-0.626953</td>\n",
       "      <td>-3.482422</td>\n",
       "      <td>-0.551270</td>\n",
       "    </tr>\n",
       "  </tbody>\n",
       "</table>\n",
       "<p>5 rows × 115 columns</p>\n",
       "</div>\n",
       "    <div class=\"colab-df-buttons\">\n",
       "\n",
       "  <div class=\"colab-df-container\">\n",
       "    <button class=\"colab-df-convert\" onclick=\"convertToInteractive('df-bef72a54-3e9e-45ff-bbbc-b96497b72b4a')\"\n",
       "            title=\"Convert this dataframe to an interactive table.\"\n",
       "            style=\"display:none;\">\n",
       "\n",
       "  <svg xmlns=\"http://www.w3.org/2000/svg\" height=\"24px\" viewBox=\"0 -960 960 960\">\n",
       "    <path d=\"M120-120v-720h720v720H120Zm60-500h600v-160H180v160Zm220 220h160v-160H400v160Zm0 220h160v-160H400v160ZM180-400h160v-160H180v160Zm440 0h160v-160H620v160ZM180-180h160v-160H180v160Zm440 0h160v-160H620v160Z\"/>\n",
       "  </svg>\n",
       "    </button>\n",
       "\n",
       "  <style>\n",
       "    .colab-df-container {\n",
       "      display:flex;\n",
       "      gap: 12px;\n",
       "    }\n",
       "\n",
       "    .colab-df-convert {\n",
       "      background-color: #E8F0FE;\n",
       "      border: none;\n",
       "      border-radius: 50%;\n",
       "      cursor: pointer;\n",
       "      display: none;\n",
       "      fill: #1967D2;\n",
       "      height: 32px;\n",
       "      padding: 0 0 0 0;\n",
       "      width: 32px;\n",
       "    }\n",
       "\n",
       "    .colab-df-convert:hover {\n",
       "      background-color: #E2EBFA;\n",
       "      box-shadow: 0px 1px 2px rgba(60, 64, 67, 0.3), 0px 1px 3px 1px rgba(60, 64, 67, 0.15);\n",
       "      fill: #174EA6;\n",
       "    }\n",
       "\n",
       "    .colab-df-buttons div {\n",
       "      margin-bottom: 4px;\n",
       "    }\n",
       "\n",
       "    [theme=dark] .colab-df-convert {\n",
       "      background-color: #3B4455;\n",
       "      fill: #D2E3FC;\n",
       "    }\n",
       "\n",
       "    [theme=dark] .colab-df-convert:hover {\n",
       "      background-color: #434B5C;\n",
       "      box-shadow: 0px 1px 3px 1px rgba(0, 0, 0, 0.15);\n",
       "      filter: drop-shadow(0px 1px 2px rgba(0, 0, 0, 0.3));\n",
       "      fill: #FFFFFF;\n",
       "    }\n",
       "  </style>\n",
       "\n",
       "    <script>\n",
       "      const buttonEl =\n",
       "        document.querySelector('#df-bef72a54-3e9e-45ff-bbbc-b96497b72b4a button.colab-df-convert');\n",
       "      buttonEl.style.display =\n",
       "        google.colab.kernel.accessAllowed ? 'block' : 'none';\n",
       "\n",
       "      async function convertToInteractive(key) {\n",
       "        const element = document.querySelector('#df-bef72a54-3e9e-45ff-bbbc-b96497b72b4a');\n",
       "        const dataTable =\n",
       "          await google.colab.kernel.invokeFunction('convertToInteractive',\n",
       "                                                    [key], {});\n",
       "        if (!dataTable) return;\n",
       "\n",
       "        const docLinkHtml = 'Like what you see? Visit the ' +\n",
       "          '<a target=\"_blank\" href=https://colab.research.google.com/notebooks/data_table.ipynb>data table notebook</a>'\n",
       "          + ' to learn more about interactive tables.';\n",
       "        element.innerHTML = '';\n",
       "        dataTable['output_type'] = 'display_data';\n",
       "        await google.colab.output.renderOutput(dataTable, element);\n",
       "        const docLink = document.createElement('div');\n",
       "        docLink.innerHTML = docLinkHtml;\n",
       "        element.appendChild(docLink);\n",
       "      }\n",
       "    </script>\n",
       "  </div>\n",
       "\n",
       "\n",
       "<div id=\"df-682d4e57-520b-4e80-854d-8f721815aec6\">\n",
       "  <button class=\"colab-df-quickchart\" onclick=\"quickchart('df-682d4e57-520b-4e80-854d-8f721815aec6')\"\n",
       "            title=\"Suggest charts\"\n",
       "            style=\"display:none;\">\n",
       "\n",
       "<svg xmlns=\"http://www.w3.org/2000/svg\" height=\"24px\"viewBox=\"0 0 24 24\"\n",
       "     width=\"24px\">\n",
       "    <g>\n",
       "        <path d=\"M19 3H5c-1.1 0-2 .9-2 2v14c0 1.1.9 2 2 2h14c1.1 0 2-.9 2-2V5c0-1.1-.9-2-2-2zM9 17H7v-7h2v7zm4 0h-2V7h2v10zm4 0h-2v-4h2v4z\"/>\n",
       "    </g>\n",
       "</svg>\n",
       "  </button>\n",
       "\n",
       "<style>\n",
       "  .colab-df-quickchart {\n",
       "      --bg-color: #E8F0FE;\n",
       "      --fill-color: #1967D2;\n",
       "      --hover-bg-color: #E2EBFA;\n",
       "      --hover-fill-color: #174EA6;\n",
       "      --disabled-fill-color: #AAA;\n",
       "      --disabled-bg-color: #DDD;\n",
       "  }\n",
       "\n",
       "  [theme=dark] .colab-df-quickchart {\n",
       "      --bg-color: #3B4455;\n",
       "      --fill-color: #D2E3FC;\n",
       "      --hover-bg-color: #434B5C;\n",
       "      --hover-fill-color: #FFFFFF;\n",
       "      --disabled-bg-color: #3B4455;\n",
       "      --disabled-fill-color: #666;\n",
       "  }\n",
       "\n",
       "  .colab-df-quickchart {\n",
       "    background-color: var(--bg-color);\n",
       "    border: none;\n",
       "    border-radius: 50%;\n",
       "    cursor: pointer;\n",
       "    display: none;\n",
       "    fill: var(--fill-color);\n",
       "    height: 32px;\n",
       "    padding: 0;\n",
       "    width: 32px;\n",
       "  }\n",
       "\n",
       "  .colab-df-quickchart:hover {\n",
       "    background-color: var(--hover-bg-color);\n",
       "    box-shadow: 0 1px 2px rgba(60, 64, 67, 0.3), 0 1px 3px 1px rgba(60, 64, 67, 0.15);\n",
       "    fill: var(--button-hover-fill-color);\n",
       "  }\n",
       "\n",
       "  .colab-df-quickchart-complete:disabled,\n",
       "  .colab-df-quickchart-complete:disabled:hover {\n",
       "    background-color: var(--disabled-bg-color);\n",
       "    fill: var(--disabled-fill-color);\n",
       "    box-shadow: none;\n",
       "  }\n",
       "\n",
       "  .colab-df-spinner {\n",
       "    border: 2px solid var(--fill-color);\n",
       "    border-color: transparent;\n",
       "    border-bottom-color: var(--fill-color);\n",
       "    animation:\n",
       "      spin 1s steps(1) infinite;\n",
       "  }\n",
       "\n",
       "  @keyframes spin {\n",
       "    0% {\n",
       "      border-color: transparent;\n",
       "      border-bottom-color: var(--fill-color);\n",
       "      border-left-color: var(--fill-color);\n",
       "    }\n",
       "    20% {\n",
       "      border-color: transparent;\n",
       "      border-left-color: var(--fill-color);\n",
       "      border-top-color: var(--fill-color);\n",
       "    }\n",
       "    30% {\n",
       "      border-color: transparent;\n",
       "      border-left-color: var(--fill-color);\n",
       "      border-top-color: var(--fill-color);\n",
       "      border-right-color: var(--fill-color);\n",
       "    }\n",
       "    40% {\n",
       "      border-color: transparent;\n",
       "      border-right-color: var(--fill-color);\n",
       "      border-top-color: var(--fill-color);\n",
       "    }\n",
       "    60% {\n",
       "      border-color: transparent;\n",
       "      border-right-color: var(--fill-color);\n",
       "    }\n",
       "    80% {\n",
       "      border-color: transparent;\n",
       "      border-right-color: var(--fill-color);\n",
       "      border-bottom-color: var(--fill-color);\n",
       "    }\n",
       "    90% {\n",
       "      border-color: transparent;\n",
       "      border-bottom-color: var(--fill-color);\n",
       "    }\n",
       "  }\n",
       "</style>\n",
       "\n",
       "  <script>\n",
       "    async function quickchart(key) {\n",
       "      const quickchartButtonEl =\n",
       "        document.querySelector('#' + key + ' button');\n",
       "      quickchartButtonEl.disabled = true;  // To prevent multiple clicks.\n",
       "      quickchartButtonEl.classList.add('colab-df-spinner');\n",
       "      try {\n",
       "        const charts = await google.colab.kernel.invokeFunction(\n",
       "            'suggestCharts', [key], {});\n",
       "      } catch (error) {\n",
       "        console.error('Error during call to suggestCharts:', error);\n",
       "      }\n",
       "      quickchartButtonEl.classList.remove('colab-df-spinner');\n",
       "      quickchartButtonEl.classList.add('colab-df-quickchart-complete');\n",
       "    }\n",
       "    (() => {\n",
       "      let quickchartButtonEl =\n",
       "        document.querySelector('#df-682d4e57-520b-4e80-854d-8f721815aec6 button');\n",
       "      quickchartButtonEl.style.display =\n",
       "        google.colab.kernel.accessAllowed ? 'block' : 'none';\n",
       "    })();\n",
       "  </script>\n",
       "</div>\n",
       "\n",
       "    </div>\n",
       "  </div>\n"
      ],
      "application/vnd.google.colaboratory.intrinsic+json": {
       "type": "dataframe"
      }
     },
     "metadata": {},
     "execution_count": 253
    }
   ]
  },
  {
   "cell_type": "code",
   "source": [
    "data = pd.read_csv(\"./drive/MyDrive/vectors_final_data.csv\")"
   ],
   "metadata": {
    "id": "wPBaOOfmWECD"
   },
   "id": "wPBaOOfmWECD",
   "execution_count": 48,
   "outputs": []
  },
  {
   "cell_type": "code",
   "source": [
    "data = reduce_mem_usage(data)"
   ],
   "metadata": {
    "id": "8ZkuyN05YX5X",
    "colab": {
     "base_uri": "https://localhost:8080/"
    },
    "outputId": "017dcb96-a8bb-4ee8-896d-28b674912812"
   },
   "id": "8ZkuyN05YX5X",
   "execution_count": 49,
   "outputs": [
    {
     "output_type": "stream",
     "name": "stdout",
     "text": [
      "Memory usage of dataframe is 838.14 MB\n",
      "Memory usage after optimization is: 238.69 MB\n",
      "Decreased by 71.5%\n"
     ]
    }
   ]
  },
  {
   "cell_type": "code",
   "source": [
    "data.columns"
   ],
   "metadata": {
    "colab": {
     "base_uri": "https://localhost:8080/"
    },
    "id": "g6JQvcKWaGLQ",
    "outputId": "e8a8e7bd-25a2-4473-e5b9-42072f8bf8ee"
   },
   "id": "g6JQvcKWaGLQ",
   "execution_count": 50,
   "outputs": [
    {
     "output_type": "execute_result",
     "data": {
      "text/plain": [
       "Index(['id', 'name', 'artists', 'danceability', 'energy', 'key', 'loudness',\n",
       "       'mode', 'speechiness', 'acousticness',\n",
       "       ...\n",
       "       '90', '91', '92', '93', '94', '95', '96', '97', '98', '99'],\n",
       "      dtype='object', length=115)"
      ]
     },
     "metadata": {},
     "execution_count": 50
    }
   ]
  },
  {
   "cell_type": "code",
   "source": [
    "data.dtypes.head(10)"
   ],
   "metadata": {
    "colab": {
     "base_uri": "https://localhost:8080/",
     "height": 393
    },
    "id": "Fy2scX7eaii2",
    "outputId": "13461f09-202e-4c60-c7fe-cb6333c6753b"
   },
   "id": "Fy2scX7eaii2",
   "execution_count": 51,
   "outputs": [
    {
     "output_type": "execute_result",
     "data": {
      "text/plain": [
       "id               object\n",
       "name             object\n",
       "artists          object\n",
       "danceability    float16\n",
       "energy          float16\n",
       "key              object\n",
       "loudness        float16\n",
       "mode             object\n",
       "speechiness     float16\n",
       "acousticness    float16\n",
       "dtype: object"
      ],
      "text/html": [
       "<div>\n",
       "<style scoped>\n",
       "    .dataframe tbody tr th:only-of-type {\n",
       "        vertical-align: middle;\n",
       "    }\n",
       "\n",
       "    .dataframe tbody tr th {\n",
       "        vertical-align: top;\n",
       "    }\n",
       "\n",
       "    .dataframe thead th {\n",
       "        text-align: right;\n",
       "    }\n",
       "</style>\n",
       "<table border=\"1\" class=\"dataframe\">\n",
       "  <thead>\n",
       "    <tr style=\"text-align: right;\">\n",
       "      <th></th>\n",
       "      <th>0</th>\n",
       "    </tr>\n",
       "  </thead>\n",
       "  <tbody>\n",
       "    <tr>\n",
       "      <th>id</th>\n",
       "      <td>object</td>\n",
       "    </tr>\n",
       "    <tr>\n",
       "      <th>name</th>\n",
       "      <td>object</td>\n",
       "    </tr>\n",
       "    <tr>\n",
       "      <th>artists</th>\n",
       "      <td>object</td>\n",
       "    </tr>\n",
       "    <tr>\n",
       "      <th>danceability</th>\n",
       "      <td>float16</td>\n",
       "    </tr>\n",
       "    <tr>\n",
       "      <th>energy</th>\n",
       "      <td>float16</td>\n",
       "    </tr>\n",
       "    <tr>\n",
       "      <th>key</th>\n",
       "      <td>object</td>\n",
       "    </tr>\n",
       "    <tr>\n",
       "      <th>loudness</th>\n",
       "      <td>float16</td>\n",
       "    </tr>\n",
       "    <tr>\n",
       "      <th>mode</th>\n",
       "      <td>object</td>\n",
       "    </tr>\n",
       "    <tr>\n",
       "      <th>speechiness</th>\n",
       "      <td>float16</td>\n",
       "    </tr>\n",
       "    <tr>\n",
       "      <th>acousticness</th>\n",
       "      <td>float16</td>\n",
       "    </tr>\n",
       "  </tbody>\n",
       "</table>\n",
       "</div><br><label><b>dtype:</b> object</label>"
      ]
     },
     "metadata": {},
     "execution_count": 51
    }
   ]
  },
  {
   "cell_type": "code",
   "source": [
    "data.key.unique()"
   ],
   "metadata": {
    "colab": {
     "base_uri": "https://localhost:8080/"
    },
    "id": "pwDT-yq6ajkN",
    "outputId": "a98d5916-0644-417f-8863-eab0d5a8b203"
   },
   "id": "pwDT-yq6ajkN",
   "execution_count": 52,
   "outputs": [
    {
     "output_type": "execute_result",
     "data": {
      "text/plain": [
       "array(['7', '5', '2', '1', '9', '0', '4', 'F', '6', '8', '7.0', 'C#',\n",
       "       '8.0', 'C', '3', 'A#', '10.0', '11', 'F#', 'A', 'D#', '11.0', '10',\n",
       "       '1.0', 'E', '6.0', 'G', '0.0', 'D', '2.0', '5.0', 'B', '9.0',\n",
       "       '4.0', 'G#', '3.0'], dtype=object)"
      ]
     },
     "metadata": {},
     "execution_count": 52
    }
   ]
  },
  {
   "cell_type": "code",
   "source": [
    "data[\"mode\"].unique()"
   ],
   "metadata": {
    "colab": {
     "base_uri": "https://localhost:8080/"
    },
    "id": "x551bybFavCz",
    "outputId": "7448e60c-966f-44af-a701-ad6c6c3e9d10"
   },
   "id": "x551bybFavCz",
   "execution_count": 53,
   "outputs": [
    {
     "output_type": "execute_result",
     "data": {
      "text/plain": [
       "array(['1', '0', 'Major', '1.0', 'Minor', '0.0'], dtype=object)"
      ]
     },
     "metadata": {},
     "execution_count": 53
    }
   ]
  },
  {
   "cell_type": "code",
   "source": [
    "from sklearn.preprocessing import LabelEncoder\n",
    "\n",
    "le = LabelEncoder()\n",
    "data[\"key\"] = le.fit_transform(data[\"key\"])"
   ],
   "metadata": {
    "id": "rduF9ZNtawfU"
   },
   "id": "rduF9ZNtawfU",
   "execution_count": 54,
   "outputs": []
  },
  {
   "cell_type": "code",
   "source": [
    "data[\"mode\"] = data[\"mode\"].replace({\"Major\": 1, \"Minor\": 0})"
   ],
   "metadata": {
    "id": "IhXoygRNa0iI"
   },
   "id": "IhXoygRNa0iI",
   "execution_count": 55,
   "outputs": []
  },
  {
   "cell_type": "code",
   "source": [
    "import pickle"
   ],
   "metadata": {
    "id": "9RKXU_FUa-mI"
   },
   "id": "9RKXU_FUa-mI",
   "execution_count": 56,
   "outputs": []
  },
  {
   "cell_type": "code",
   "source": [
    "with open(\"./drive/MyDrive/le_key.pkl\", \"wb\") as f:\n",
    "    pickle.dump(le, f)"
   ],
   "metadata": {
    "id": "5PXYreybbAn_"
   },
   "id": "5PXYreybbAn_",
   "execution_count": 57,
   "outputs": []
  },
  {
   "cell_type": "code",
   "source": [
    "data[\"mode\"] = data[\"mode\"].astype(float)"
   ],
   "metadata": {
    "id": "ALuUEAG7bFLw"
   },
   "id": "ALuUEAG7bFLw",
   "execution_count": 58,
   "outputs": []
  },
  {
   "cell_type": "code",
   "source": [
    "data = reduce_mem_usage(data)"
   ],
   "metadata": {
    "colab": {
     "base_uri": "https://localhost:8080/"
    },
    "id": "GsfHFNsMbIgy",
    "outputId": "8afd4e30-2383-427b-8c55-3eeec9a1eeb1"
   },
   "id": "GsfHFNsMbIgy",
   "execution_count": 59,
   "outputs": [
    {
     "output_type": "stream",
     "name": "stdout",
     "text": [
      "Memory usage of dataframe is 238.69 MB\n",
      "Memory usage after optimization is: 226.85 MB\n",
      "Decreased by 5.0%\n"
     ]
    }
   ]
  },
  {
   "cell_type": "code",
   "source": [
    "data.shape"
   ],
   "metadata": {
    "colab": {
     "base_uri": "https://localhost:8080/"
    },
    "id": "U7gjNt4NdFCM",
    "outputId": "fa7aa2e0-d889-456b-9bfe-00eb3c81e65d"
   },
   "id": "U7gjNt4NdFCM",
   "execution_count": 60,
   "outputs": [
    {
     "output_type": "execute_result",
     "data": {
      "text/plain": [
       "(955278, 115)"
      ]
     },
     "metadata": {},
     "execution_count": 60
    }
   ]
  },
  {
   "cell_type": "code",
   "source": [
    "from sklearn.neighbors import NearestNeighbors\n",
    "\n",
    "embeddings = data.loc[:, '0':'99'].to_numpy()\n",
    "\n",
    "nn_model = NearestNeighbors(n_neighbors=31, algorithm='auto', metric='euclidean')\n",
    "nn_model.fit(embeddings)\n",
    "\n",
    "query_indices = [0, 1]\n",
    "queries = embeddings[query_indices]\n",
    "\n",
    "distances, indices = nn_model.kneighbors(queries)\n",
    "\n",
    "for i, query_idx in enumerate(query_indices):\n",
    "    print(f\"For song '{data.iloc[query_idx]['name']}' similar is:\")\n",
    "    for neighbor_idx in indices[i][1:]:\n",
    "        neighbor = data.iloc[neighbor_idx]\n",
    "        print(f\"  - {neighbor['name']} ({neighbor['artists']})\")\n"
   ],
   "metadata": {
    "colab": {
     "base_uri": "https://localhost:8080/"
    },
    "id": "eX-LdyvfbTih",
    "outputId": "a94f27ae-2693-406b-804d-5610e5418881"
   },
   "id": "eX-LdyvfbTih",
   "execution_count": 62,
   "outputs": [
    {
     "output_type": "stream",
     "name": "stdout",
     "text": [
      "For song '!' similar is:\n",
      "  - High School (Nicki Minaj, Lil Wayne)\n",
      "  - High School (Nicki Minaj;Lil Wayne)\n",
      "  - Mona Lisa (feat. Kendrick Lamar) (Lil Wayne)\n",
      "  - Episode (E-40)\n",
      "  - You Said (feat. Quavo) (Young Thug, Quavo)\n",
      "  - I'm Sprung 2 (T-Pain)\n",
      "  - I'm Sprung 2 (feat. YoungBloodZ & Trick Daddy) (T-Pain)\n",
      "  - Fuck You (Dr. Dre)\n",
      "  - Fuck You (Dr. Dre, Devin The Dude, Snoop Dogg)\n",
      "  - Wishing Remix (feat. Chris Brown, Fabolous, Trey Songz, Jhene Aiko & Tory Lanez) (DJ Drama)\n",
      "  - Wishing Remix (feat. Chris Brown, Fabolous, Trey Songz, Jhene Aiko & Tory Lanez) (DJ Drama, Chris Brown, Jhené Aiko, Tory Lanez, Fabolous, Trey Songz)\n",
      "  - Born Again (Suga Free)\n",
      "  - Versatile (Kodak Black)\n",
      "  - Versatile (Kodak Black)\n",
      "  - Versatile (Kodak Black)\n",
      "  - I.O.U. (Inspectah Deck)\n",
      "  - Hustla's Wife (C-Murder, 50/50 Twin)\n",
      "  - Try Again Tomorrow (J. Stalin)\n",
      "  - Bust It Baby Part 2 (feat. Ne-Yo ) (Plies)\n",
      "  - Freak (Frequency) (Indigo, the Rapper)\n",
      "  - I'm a Flirt Remix (R. Kelly)\n",
      "  - I'm a Flirt Remix (feat. T.I. & T-Pain) (R. Kelly, T.I., T-Pain)\n",
      "  - Crazy Ho (feat. Strong Arm Steady) - Xplicit Album Version (Xzibit, Strong Arm Steady)\n",
      "  - Cuddy Buddy (feat. Trey Songz, Twista and Lil Wayne) - Remix (Mike Jones)\n",
      "  - Red Roses (feat. Landon Cube) (Lil Skies, Landon Cube)\n",
      "  - Proud Of Me (feat. Young Thug) (Lil Keed, Young Thug)\n",
      "  - Proud Of Me (feat. Young Thug) (Lil Keed, Young Thug)\n",
      "  - U Was At The Club (Bottoms Up) (The Boyboy West Coast)\n",
      "  - It Ain't Easy (Quando Rondo)\n",
      "  - American Beauty ((Hed) P.E.)\n",
      "For song '!!' similar is:\n",
      "  - Show Me (Sizzla)\n",
      "  - All This Love (Various Artists)\n",
      "  - All This Love - Single Version (DeBarge)\n",
      "  - Ordinary Girl (Rebelution)\n",
      "  - No Other Way (Paolo Nutini)\n",
      "  - No Other Way (Paolo Nutini)\n",
      "  - Show and Tell - Rerecorded (Al Wilson)\n",
      "  - Thank You For Holding On - Feat. Latocha Scott (Sir Charles Jones)\n",
      "  - Strings Attached (Mr. Sipp)\n",
      "  - Homesick Lovesick (Gwen McCrae)\n",
      "  - You Are Everything to Me (Primitive)\n",
      "  - Y.O.U. (Avant)\n",
      "  - I Love You (Keith Washington, Chanté Moore)\n",
      "  - I Love You (Keith Washington)\n",
      "  - Look What You've Done For Me (Al Jarreau)\n",
      "  - Look What You've Done For Me (Al Jarreau)\n",
      "  - Look What You've Done For Me (Al Jarreau)\n",
      "  - Look What You've Done For Me (Al Jarreau)\n",
      "  - Come Over - Radio Version (Estelle)\n",
      "  - All This Love - Alternate Version (DeBarge)\n",
      "  - Lay Down for Love (Gary Barlow)\n",
      "  - Walk With Me (Devil Doll)\n",
      "  - I've Been Loving You Too Long - Remastered Live At The Whisky A Go Go Version (Otis Redding)\n",
      "  - You Done Lost Your Good Thing Now (B.B. King)\n",
      "  - You Done Lost Your Good Thing Now (B.B. King)\n",
      "  - A Fool For You (Stevie Wonder)\n",
      "  - A Fool for You - Live at Newport Jazz Festival, Rhode Island, 7/5/1958 (Ray Charles)\n",
      "  - Smile (Lil Rob)\n",
      "  - Show and Tell (Al Wilson)\n",
      "  - Little Love (Melissa Ferrick)\n"
     ]
    }
   ]
  },
  {
   "cell_type": "code",
   "source": [
    "with open(\"./drive/MyDrive/nn_model.pkl\", \"wb\") as f:\n",
    "    pickle.dump(nn_model, f)"
   ],
   "metadata": {
    "id": "AymQrvGPbZuF"
   },
   "id": "AymQrvGPbZuF",
   "execution_count": 63,
   "outputs": []
  },
  {
   "cell_type": "code",
   "source": [],
   "metadata": {
    "id": "YcJwvZcId1Cv"
   },
   "id": "YcJwvZcId1Cv",
   "execution_count": null,
   "outputs": []
  }
 ],
 "metadata": {
  "accelerator": "GPU",
  "colab": {
   "gpuType": "L4",
   "machine_shape": "hm",
   "provenance": []
  },
  "kernelspec": {
   "display_name": "Python 3",
   "name": "python3"
  },
  "language_info": {
   "codemirror_mode": {
    "name": "ipython",
    "version": 2
   },
   "file_extension": ".py",
   "mimetype": "text/x-python",
   "name": "python",
   "nbconvert_exporter": "python",
   "pygments_lexer": "ipython2",
   "version": "2.7.6"
  },
  "widgets": {
   "application/vnd.jupyter.widget-state+json": {
    "0c46700d82d64685bf002612354f3bd6": {
     "model_module": "@jupyter-widgets/base",
     "model_module_version": "1.2.0",
     "model_name": "LayoutModel",
     "state": {
      "_model_module": "@jupyter-widgets/base",
      "_model_module_version": "1.2.0",
      "_model_name": "LayoutModel",
      "_view_count": null,
      "_view_module": "@jupyter-widgets/base",
      "_view_module_version": "1.2.0",
      "_view_name": "LayoutView",
      "align_content": null,
      "align_items": null,
      "align_self": null,
      "border": null,
      "bottom": null,
      "display": null,
      "flex": null,
      "flex_flow": null,
      "grid_area": null,
      "grid_auto_columns": null,
      "grid_auto_flow": null,
      "grid_auto_rows": null,
      "grid_column": null,
      "grid_gap": null,
      "grid_row": null,
      "grid_template_areas": null,
      "grid_template_columns": null,
      "grid_template_rows": null,
      "height": null,
      "justify_content": null,
      "justify_items": null,
      "left": null,
      "margin": null,
      "max_height": null,
      "max_width": null,
      "min_height": null,
      "min_width": null,
      "object_fit": null,
      "object_position": null,
      "order": null,
      "overflow": null,
      "overflow_x": null,
      "overflow_y": null,
      "padding": null,
      "right": null,
      "top": null,
      "visibility": null,
      "width": null
     }
    },
    "1d6ca948b0704ac28d6ed31d0e32e69d": {
     "model_module": "@jupyter-widgets/controls",
     "model_module_version": "1.5.0",
     "model_name": "DescriptionStyleModel",
     "state": {
      "_model_module": "@jupyter-widgets/controls",
      "_model_module_version": "1.5.0",
      "_model_name": "DescriptionStyleModel",
      "_view_count": null,
      "_view_module": "@jupyter-widgets/base",
      "_view_module_version": "1.2.0",
      "_view_name": "StyleView",
      "description_width": ""
     }
    },
    "1eebc30d97a34d15b23e3e6bb3fadd77": {
     "model_module": "@jupyter-widgets/controls",
     "model_module_version": "1.5.0",
     "model_name": "HTMLModel",
     "state": {
      "_dom_classes": [],
      "_model_module": "@jupyter-widgets/controls",
      "_model_module_version": "1.5.0",
      "_model_name": "HTMLModel",
      "_view_count": null,
      "_view_module": "@jupyter-widgets/controls",
      "_view_module_version": "1.5.0",
      "_view_name": "HTMLView",
      "description": "",
      "description_tooltip": null,
      "layout": "IPY_MODEL_5f52a28b83e045fa9ce3f71ea124bd8f",
      "placeholder": "​",
      "style": "IPY_MODEL_1d6ca948b0704ac28d6ed31d0e32e69d",
      "value": "100%"
     }
    },
    "258d19c3a9884064a3ba7bd7bdcabcc9": {
     "model_module": "@jupyter-widgets/controls",
     "model_module_version": "1.5.0",
     "model_name": "HBoxModel",
     "state": {
      "_dom_classes": [],
      "_model_module": "@jupyter-widgets/controls",
      "_model_module_version": "1.5.0",
      "_model_name": "HBoxModel",
      "_view_count": null,
      "_view_module": "@jupyter-widgets/controls",
      "_view_module_version": "1.5.0",
      "_view_name": "HBoxView",
      "box_style": "",
      "children": [
       "IPY_MODEL_402d5df0b13c4cc18faeaef3c5e67c80",
       "IPY_MODEL_859b6d7e7e0c4db5aef8e1e12d9e9bdf",
       "IPY_MODEL_36bb281dec634410b0732c7458c1d233"
      ],
      "layout": "IPY_MODEL_f229e9c9e2094bfcadb6883213209125"
     }
    },
    "2e392401cd654865937231bfab3c2ce9": {
     "model_module": "@jupyter-widgets/base",
     "model_module_version": "1.2.0",
     "model_name": "LayoutModel",
     "state": {
      "_model_module": "@jupyter-widgets/base",
      "_model_module_version": "1.2.0",
      "_model_name": "LayoutModel",
      "_view_count": null,
      "_view_module": "@jupyter-widgets/base",
      "_view_module_version": "1.2.0",
      "_view_name": "LayoutView",
      "align_content": null,
      "align_items": null,
      "align_self": null,
      "border": null,
      "bottom": null,
      "display": null,
      "flex": null,
      "flex_flow": null,
      "grid_area": null,
      "grid_auto_columns": null,
      "grid_auto_flow": null,
      "grid_auto_rows": null,
      "grid_column": null,
      "grid_gap": null,
      "grid_row": null,
      "grid_template_areas": null,
      "grid_template_columns": null,
      "grid_template_rows": null,
      "height": null,
      "justify_content": null,
      "justify_items": null,
      "left": null,
      "margin": null,
      "max_height": null,
      "max_width": null,
      "min_height": null,
      "min_width": null,
      "object_fit": null,
      "object_position": null,
      "order": null,
      "overflow": null,
      "overflow_x": null,
      "overflow_y": null,
      "padding": null,
      "right": null,
      "top": null,
      "visibility": null,
      "width": null
     }
    },
    "36bb281dec634410b0732c7458c1d233": {
     "model_module": "@jupyter-widgets/controls",
     "model_module_version": "1.5.0",
     "model_name": "HTMLModel",
     "state": {
      "_dom_classes": [],
      "_model_module": "@jupyter-widgets/controls",
      "_model_module_version": "1.5.0",
      "_model_name": "HTMLModel",
      "_view_count": null,
      "_view_module": "@jupyter-widgets/controls",
      "_view_module_version": "1.5.0",
      "_view_name": "HTMLView",
      "description": "",
      "description_tooltip": null,
      "layout": "IPY_MODEL_cc87c2cda96b4b6facc6d003d0061fa5",
      "placeholder": "​",
      "style": "IPY_MODEL_58751a46cd1e49ca9733370aaa75aa21",
      "value": " 955296/955296 [08:40&lt;00:00, 4126.15it/s]"
     }
    },
    "402d5df0b13c4cc18faeaef3c5e67c80": {
     "model_module": "@jupyter-widgets/controls",
     "model_module_version": "1.5.0",
     "model_name": "HTMLModel",
     "state": {
      "_dom_classes": [],
      "_model_module": "@jupyter-widgets/controls",
      "_model_module_version": "1.5.0",
      "_model_name": "HTMLModel",
      "_view_count": null,
      "_view_module": "@jupyter-widgets/controls",
      "_view_module_version": "1.5.0",
      "_view_name": "HTMLView",
      "description": "",
      "description_tooltip": null,
      "layout": "IPY_MODEL_dd386b5c75dc43cca524ed4664752b6d",
      "placeholder": "​",
      "style": "IPY_MODEL_dd58dbe9777d4db9b3828413799856f6",
      "value": "100%"
     }
    },
    "475848be6d7d4f7799ff3eb1c861b6d4": {
     "model_module": "@jupyter-widgets/base",
     "model_module_version": "1.2.0",
     "model_name": "LayoutModel",
     "state": {
      "_model_module": "@jupyter-widgets/base",
      "_model_module_version": "1.2.0",
      "_model_name": "LayoutModel",
      "_view_count": null,
      "_view_module": "@jupyter-widgets/base",
      "_view_module_version": "1.2.0",
      "_view_name": "LayoutView",
      "align_content": null,
      "align_items": null,
      "align_self": null,
      "border": null,
      "bottom": null,
      "display": null,
      "flex": null,
      "flex_flow": null,
      "grid_area": null,
      "grid_auto_columns": null,
      "grid_auto_flow": null,
      "grid_auto_rows": null,
      "grid_column": null,
      "grid_gap": null,
      "grid_row": null,
      "grid_template_areas": null,
      "grid_template_columns": null,
      "grid_template_rows": null,
      "height": null,
      "justify_content": null,
      "justify_items": null,
      "left": null,
      "margin": null,
      "max_height": null,
      "max_width": null,
      "min_height": null,
      "min_width": null,
      "object_fit": null,
      "object_position": null,
      "order": null,
      "overflow": null,
      "overflow_x": null,
      "overflow_y": null,
      "padding": null,
      "right": null,
      "top": null,
      "visibility": null,
      "width": null
     }
    },
    "4c4afd993c364762b695a6036b30eb8f": {
     "model_module": "@jupyter-widgets/base",
     "model_module_version": "1.2.0",
     "model_name": "LayoutModel",
     "state": {
      "_model_module": "@jupyter-widgets/base",
      "_model_module_version": "1.2.0",
      "_model_name": "LayoutModel",
      "_view_count": null,
      "_view_module": "@jupyter-widgets/base",
      "_view_module_version": "1.2.0",
      "_view_name": "LayoutView",
      "align_content": null,
      "align_items": null,
      "align_self": null,
      "border": null,
      "bottom": null,
      "display": null,
      "flex": null,
      "flex_flow": null,
      "grid_area": null,
      "grid_auto_columns": null,
      "grid_auto_flow": null,
      "grid_auto_rows": null,
      "grid_column": null,
      "grid_gap": null,
      "grid_row": null,
      "grid_template_areas": null,
      "grid_template_columns": null,
      "grid_template_rows": null,
      "height": null,
      "justify_content": null,
      "justify_items": null,
      "left": null,
      "margin": null,
      "max_height": null,
      "max_width": null,
      "min_height": null,
      "min_width": null,
      "object_fit": null,
      "object_position": null,
      "order": null,
      "overflow": null,
      "overflow_x": null,
      "overflow_y": null,
      "padding": null,
      "right": null,
      "top": null,
      "visibility": null,
      "width": null
     }
    },
    "58751a46cd1e49ca9733370aaa75aa21": {
     "model_module": "@jupyter-widgets/controls",
     "model_module_version": "1.5.0",
     "model_name": "DescriptionStyleModel",
     "state": {
      "_model_module": "@jupyter-widgets/controls",
      "_model_module_version": "1.5.0",
      "_model_name": "DescriptionStyleModel",
      "_view_count": null,
      "_view_module": "@jupyter-widgets/base",
      "_view_module_version": "1.2.0",
      "_view_name": "StyleView",
      "description_width": ""
     }
    },
    "5d432ac985a24d97b7a8288bf1068808": {
     "model_module": "@jupyter-widgets/controls",
     "model_module_version": "1.5.0",
     "model_name": "DescriptionStyleModel",
     "state": {
      "_model_module": "@jupyter-widgets/controls",
      "_model_module_version": "1.5.0",
      "_model_name": "DescriptionStyleModel",
      "_view_count": null,
      "_view_module": "@jupyter-widgets/base",
      "_view_module_version": "1.2.0",
      "_view_name": "StyleView",
      "description_width": ""
     }
    },
    "5f52a28b83e045fa9ce3f71ea124bd8f": {
     "model_module": "@jupyter-widgets/base",
     "model_module_version": "1.2.0",
     "model_name": "LayoutModel",
     "state": {
      "_model_module": "@jupyter-widgets/base",
      "_model_module_version": "1.2.0",
      "_model_name": "LayoutModel",
      "_view_count": null,
      "_view_module": "@jupyter-widgets/base",
      "_view_module_version": "1.2.0",
      "_view_name": "LayoutView",
      "align_content": null,
      "align_items": null,
      "align_self": null,
      "border": null,
      "bottom": null,
      "display": null,
      "flex": null,
      "flex_flow": null,
      "grid_area": null,
      "grid_auto_columns": null,
      "grid_auto_flow": null,
      "grid_auto_rows": null,
      "grid_column": null,
      "grid_gap": null,
      "grid_row": null,
      "grid_template_areas": null,
      "grid_template_columns": null,
      "grid_template_rows": null,
      "height": null,
      "justify_content": null,
      "justify_items": null,
      "left": null,
      "margin": null,
      "max_height": null,
      "max_width": null,
      "min_height": null,
      "min_width": null,
      "object_fit": null,
      "object_position": null,
      "order": null,
      "overflow": null,
      "overflow_x": null,
      "overflow_y": null,
      "padding": null,
      "right": null,
      "top": null,
      "visibility": null,
      "width": null
     }
    },
    "7e0fbac76c9c40e3bf1dccc214c3b324": {
     "model_module": "@jupyter-widgets/controls",
     "model_module_version": "1.5.0",
     "model_name": "HBoxModel",
     "state": {
      "_dom_classes": [],
      "_model_module": "@jupyter-widgets/controls",
      "_model_module_version": "1.5.0",
      "_model_name": "HBoxModel",
      "_view_count": null,
      "_view_module": "@jupyter-widgets/controls",
      "_view_module_version": "1.5.0",
      "_view_name": "HBoxView",
      "box_style": "",
      "children": [
       "IPY_MODEL_eae4f9d829ad432da91ff5a1338f5c35",
       "IPY_MODEL_e5e3b675510642eaa49cdc8a7db9bc01",
       "IPY_MODEL_a33928b147d14ddfa2b53e6503eb85f9"
      ],
      "layout": "IPY_MODEL_0c46700d82d64685bf002612354f3bd6"
     }
    },
    "7eb3e9d722f342ec9c4a36556cb51abe": {
     "model_module": "@jupyter-widgets/controls",
     "model_module_version": "1.5.0",
     "model_name": "ProgressStyleModel",
     "state": {
      "_model_module": "@jupyter-widgets/controls",
      "_model_module_version": "1.5.0",
      "_model_name": "ProgressStyleModel",
      "_view_count": null,
      "_view_module": "@jupyter-widgets/base",
      "_view_module_version": "1.2.0",
      "_view_name": "StyleView",
      "bar_color": null,
      "description_width": ""
     }
    },
    "819bda52b396457c9af3e502283e2363": {
     "model_module": "@jupyter-widgets/controls",
     "model_module_version": "1.5.0",
     "model_name": "ProgressStyleModel",
     "state": {
      "_model_module": "@jupyter-widgets/controls",
      "_model_module_version": "1.5.0",
      "_model_name": "ProgressStyleModel",
      "_view_count": null,
      "_view_module": "@jupyter-widgets/base",
      "_view_module_version": "1.2.0",
      "_view_name": "StyleView",
      "bar_color": null,
      "description_width": ""
     }
    },
    "859b6d7e7e0c4db5aef8e1e12d9e9bdf": {
     "model_module": "@jupyter-widgets/controls",
     "model_module_version": "1.5.0",
     "model_name": "FloatProgressModel",
     "state": {
      "_dom_classes": [],
      "_model_module": "@jupyter-widgets/controls",
      "_model_module_version": "1.5.0",
      "_model_name": "FloatProgressModel",
      "_view_count": null,
      "_view_module": "@jupyter-widgets/controls",
      "_view_module_version": "1.5.0",
      "_view_name": "ProgressView",
      "bar_style": "success",
      "description": "",
      "description_tooltip": null,
      "layout": "IPY_MODEL_2e392401cd654865937231bfab3c2ce9",
      "max": 955296,
      "min": 0,
      "orientation": "horizontal",
      "style": "IPY_MODEL_7eb3e9d722f342ec9c4a36556cb51abe",
      "value": 955296
     }
    },
    "8873f94df02248fcaa70608d2335be3e": {
     "model_module": "@jupyter-widgets/controls",
     "model_module_version": "1.5.0",
     "model_name": "ProgressStyleModel",
     "state": {
      "_model_module": "@jupyter-widgets/controls",
      "_model_module_version": "1.5.0",
      "_model_name": "ProgressStyleModel",
      "_view_count": null,
      "_view_module": "@jupyter-widgets/base",
      "_view_module_version": "1.2.0",
      "_view_name": "StyleView",
      "bar_color": null,
      "description_width": ""
     }
    },
    "90c8f47e5fc24f6bb483badb898f59b5": {
     "model_module": "@jupyter-widgets/base",
     "model_module_version": "1.2.0",
     "model_name": "LayoutModel",
     "state": {
      "_model_module": "@jupyter-widgets/base",
      "_model_module_version": "1.2.0",
      "_model_name": "LayoutModel",
      "_view_count": null,
      "_view_module": "@jupyter-widgets/base",
      "_view_module_version": "1.2.0",
      "_view_name": "LayoutView",
      "align_content": null,
      "align_items": null,
      "align_self": null,
      "border": null,
      "bottom": null,
      "display": null,
      "flex": null,
      "flex_flow": null,
      "grid_area": null,
      "grid_auto_columns": null,
      "grid_auto_flow": null,
      "grid_auto_rows": null,
      "grid_column": null,
      "grid_gap": null,
      "grid_row": null,
      "grid_template_areas": null,
      "grid_template_columns": null,
      "grid_template_rows": null,
      "height": null,
      "justify_content": null,
      "justify_items": null,
      "left": null,
      "margin": null,
      "max_height": null,
      "max_width": null,
      "min_height": null,
      "min_width": null,
      "object_fit": null,
      "object_position": null,
      "order": null,
      "overflow": null,
      "overflow_x": null,
      "overflow_y": null,
      "padding": null,
      "right": null,
      "top": null,
      "visibility": null,
      "width": null
     }
    },
    "9acdaf0c5d034ff28e0bd29390a99603": {
     "model_module": "@jupyter-widgets/controls",
     "model_module_version": "1.5.0",
     "model_name": "HTMLModel",
     "state": {
      "_dom_classes": [],
      "_model_module": "@jupyter-widgets/controls",
      "_model_module_version": "1.5.0",
      "_model_name": "HTMLModel",
      "_view_count": null,
      "_view_module": "@jupyter-widgets/controls",
      "_view_module_version": "1.5.0",
      "_view_name": "HTMLView",
      "description": "",
      "description_tooltip": null,
      "layout": "IPY_MODEL_ace4bb25a3b84d52b9ad8eb072e82ff2",
      "placeholder": "​",
      "style": "IPY_MODEL_c2d4d8678b7d47b69aafa79a054ff19d",
      "value": " 955296/955296 [02:16&lt;00:00, 14579.40it/s]"
     }
    },
    "a33928b147d14ddfa2b53e6503eb85f9": {
     "model_module": "@jupyter-widgets/controls",
     "model_module_version": "1.5.0",
     "model_name": "HTMLModel",
     "state": {
      "_dom_classes": [],
      "_model_module": "@jupyter-widgets/controls",
      "_model_module_version": "1.5.0",
      "_model_name": "HTMLModel",
      "_view_count": null,
      "_view_module": "@jupyter-widgets/controls",
      "_view_module_version": "1.5.0",
      "_view_name": "HTMLView",
      "description": "",
      "description_tooltip": null,
      "layout": "IPY_MODEL_90c8f47e5fc24f6bb483badb898f59b5",
      "placeholder": "​",
      "style": "IPY_MODEL_f163ac2d0b1b4b8bafb2a2c58542efd4",
      "value": " 955296/955296 [04:39&lt;00:00, 8145.08it/s]"
     }
    },
    "ace4bb25a3b84d52b9ad8eb072e82ff2": {
     "model_module": "@jupyter-widgets/base",
     "model_module_version": "1.2.0",
     "model_name": "LayoutModel",
     "state": {
      "_model_module": "@jupyter-widgets/base",
      "_model_module_version": "1.2.0",
      "_model_name": "LayoutModel",
      "_view_count": null,
      "_view_module": "@jupyter-widgets/base",
      "_view_module_version": "1.2.0",
      "_view_name": "LayoutView",
      "align_content": null,
      "align_items": null,
      "align_self": null,
      "border": null,
      "bottom": null,
      "display": null,
      "flex": null,
      "flex_flow": null,
      "grid_area": null,
      "grid_auto_columns": null,
      "grid_auto_flow": null,
      "grid_auto_rows": null,
      "grid_column": null,
      "grid_gap": null,
      "grid_row": null,
      "grid_template_areas": null,
      "grid_template_columns": null,
      "grid_template_rows": null,
      "height": null,
      "justify_content": null,
      "justify_items": null,
      "left": null,
      "margin": null,
      "max_height": null,
      "max_width": null,
      "min_height": null,
      "min_width": null,
      "object_fit": null,
      "object_position": null,
      "order": null,
      "overflow": null,
      "overflow_x": null,
      "overflow_y": null,
      "padding": null,
      "right": null,
      "top": null,
      "visibility": null,
      "width": null
     }
    },
    "bf44cf87331e47d997af22828ed8fffa": {
     "model_module": "@jupyter-widgets/controls",
     "model_module_version": "1.5.0",
     "model_name": "FloatProgressModel",
     "state": {
      "_dom_classes": [],
      "_model_module": "@jupyter-widgets/controls",
      "_model_module_version": "1.5.0",
      "_model_name": "FloatProgressModel",
      "_view_count": null,
      "_view_module": "@jupyter-widgets/controls",
      "_view_module_version": "1.5.0",
      "_view_name": "ProgressView",
      "bar_style": "success",
      "description": "",
      "description_tooltip": null,
      "layout": "IPY_MODEL_d1cbb0bd9d294bd68c52e6699c2918a0",
      "max": 955296,
      "min": 0,
      "orientation": "horizontal",
      "style": "IPY_MODEL_8873f94df02248fcaa70608d2335be3e",
      "value": 955296
     }
    },
    "c2d4d8678b7d47b69aafa79a054ff19d": {
     "model_module": "@jupyter-widgets/controls",
     "model_module_version": "1.5.0",
     "model_name": "DescriptionStyleModel",
     "state": {
      "_model_module": "@jupyter-widgets/controls",
      "_model_module_version": "1.5.0",
      "_model_name": "DescriptionStyleModel",
      "_view_count": null,
      "_view_module": "@jupyter-widgets/base",
      "_view_module_version": "1.2.0",
      "_view_name": "StyleView",
      "description_width": ""
     }
    },
    "cc87c2cda96b4b6facc6d003d0061fa5": {
     "model_module": "@jupyter-widgets/base",
     "model_module_version": "1.2.0",
     "model_name": "LayoutModel",
     "state": {
      "_model_module": "@jupyter-widgets/base",
      "_model_module_version": "1.2.0",
      "_model_name": "LayoutModel",
      "_view_count": null,
      "_view_module": "@jupyter-widgets/base",
      "_view_module_version": "1.2.0",
      "_view_name": "LayoutView",
      "align_content": null,
      "align_items": null,
      "align_self": null,
      "border": null,
      "bottom": null,
      "display": null,
      "flex": null,
      "flex_flow": null,
      "grid_area": null,
      "grid_auto_columns": null,
      "grid_auto_flow": null,
      "grid_auto_rows": null,
      "grid_column": null,
      "grid_gap": null,
      "grid_row": null,
      "grid_template_areas": null,
      "grid_template_columns": null,
      "grid_template_rows": null,
      "height": null,
      "justify_content": null,
      "justify_items": null,
      "left": null,
      "margin": null,
      "max_height": null,
      "max_width": null,
      "min_height": null,
      "min_width": null,
      "object_fit": null,
      "object_position": null,
      "order": null,
      "overflow": null,
      "overflow_x": null,
      "overflow_y": null,
      "padding": null,
      "right": null,
      "top": null,
      "visibility": null,
      "width": null
     }
    },
    "d1cbb0bd9d294bd68c52e6699c2918a0": {
     "model_module": "@jupyter-widgets/base",
     "model_module_version": "1.2.0",
     "model_name": "LayoutModel",
     "state": {
      "_model_module": "@jupyter-widgets/base",
      "_model_module_version": "1.2.0",
      "_model_name": "LayoutModel",
      "_view_count": null,
      "_view_module": "@jupyter-widgets/base",
      "_view_module_version": "1.2.0",
      "_view_name": "LayoutView",
      "align_content": null,
      "align_items": null,
      "align_self": null,
      "border": null,
      "bottom": null,
      "display": null,
      "flex": null,
      "flex_flow": null,
      "grid_area": null,
      "grid_auto_columns": null,
      "grid_auto_flow": null,
      "grid_auto_rows": null,
      "grid_column": null,
      "grid_gap": null,
      "grid_row": null,
      "grid_template_areas": null,
      "grid_template_columns": null,
      "grid_template_rows": null,
      "height": null,
      "justify_content": null,
      "justify_items": null,
      "left": null,
      "margin": null,
      "max_height": null,
      "max_width": null,
      "min_height": null,
      "min_width": null,
      "object_fit": null,
      "object_position": null,
      "order": null,
      "overflow": null,
      "overflow_x": null,
      "overflow_y": null,
      "padding": null,
      "right": null,
      "top": null,
      "visibility": null,
      "width": null
     }
    },
    "d85aaa9a223b4a0c9e536c0408fc3892": {
     "model_module": "@jupyter-widgets/controls",
     "model_module_version": "1.5.0",
     "model_name": "HBoxModel",
     "state": {
      "_dom_classes": [],
      "_model_module": "@jupyter-widgets/controls",
      "_model_module_version": "1.5.0",
      "_model_name": "HBoxModel",
      "_view_count": null,
      "_view_module": "@jupyter-widgets/controls",
      "_view_module_version": "1.5.0",
      "_view_name": "HBoxView",
      "box_style": "",
      "children": [
       "IPY_MODEL_1eebc30d97a34d15b23e3e6bb3fadd77",
       "IPY_MODEL_bf44cf87331e47d997af22828ed8fffa",
       "IPY_MODEL_9acdaf0c5d034ff28e0bd29390a99603"
      ],
      "layout": "IPY_MODEL_e63a2c6f3d83475cb7e470e09055bbdd"
     }
    },
    "dd386b5c75dc43cca524ed4664752b6d": {
     "model_module": "@jupyter-widgets/base",
     "model_module_version": "1.2.0",
     "model_name": "LayoutModel",
     "state": {
      "_model_module": "@jupyter-widgets/base",
      "_model_module_version": "1.2.0",
      "_model_name": "LayoutModel",
      "_view_count": null,
      "_view_module": "@jupyter-widgets/base",
      "_view_module_version": "1.2.0",
      "_view_name": "LayoutView",
      "align_content": null,
      "align_items": null,
      "align_self": null,
      "border": null,
      "bottom": null,
      "display": null,
      "flex": null,
      "flex_flow": null,
      "grid_area": null,
      "grid_auto_columns": null,
      "grid_auto_flow": null,
      "grid_auto_rows": null,
      "grid_column": null,
      "grid_gap": null,
      "grid_row": null,
      "grid_template_areas": null,
      "grid_template_columns": null,
      "grid_template_rows": null,
      "height": null,
      "justify_content": null,
      "justify_items": null,
      "left": null,
      "margin": null,
      "max_height": null,
      "max_width": null,
      "min_height": null,
      "min_width": null,
      "object_fit": null,
      "object_position": null,
      "order": null,
      "overflow": null,
      "overflow_x": null,
      "overflow_y": null,
      "padding": null,
      "right": null,
      "top": null,
      "visibility": null,
      "width": null
     }
    },
    "dd58dbe9777d4db9b3828413799856f6": {
     "model_module": "@jupyter-widgets/controls",
     "model_module_version": "1.5.0",
     "model_name": "DescriptionStyleModel",
     "state": {
      "_model_module": "@jupyter-widgets/controls",
      "_model_module_version": "1.5.0",
      "_model_name": "DescriptionStyleModel",
      "_view_count": null,
      "_view_module": "@jupyter-widgets/base",
      "_view_module_version": "1.2.0",
      "_view_name": "StyleView",
      "description_width": ""
     }
    },
    "e5e3b675510642eaa49cdc8a7db9bc01": {
     "model_module": "@jupyter-widgets/controls",
     "model_module_version": "1.5.0",
     "model_name": "FloatProgressModel",
     "state": {
      "_dom_classes": [],
      "_model_module": "@jupyter-widgets/controls",
      "_model_module_version": "1.5.0",
      "_model_name": "FloatProgressModel",
      "_view_count": null,
      "_view_module": "@jupyter-widgets/controls",
      "_view_module_version": "1.5.0",
      "_view_name": "ProgressView",
      "bar_style": "success",
      "description": "",
      "description_tooltip": null,
      "layout": "IPY_MODEL_4c4afd993c364762b695a6036b30eb8f",
      "max": 955296,
      "min": 0,
      "orientation": "horizontal",
      "style": "IPY_MODEL_819bda52b396457c9af3e502283e2363",
      "value": 955296
     }
    },
    "e63a2c6f3d83475cb7e470e09055bbdd": {
     "model_module": "@jupyter-widgets/base",
     "model_module_version": "1.2.0",
     "model_name": "LayoutModel",
     "state": {
      "_model_module": "@jupyter-widgets/base",
      "_model_module_version": "1.2.0",
      "_model_name": "LayoutModel",
      "_view_count": null,
      "_view_module": "@jupyter-widgets/base",
      "_view_module_version": "1.2.0",
      "_view_name": "LayoutView",
      "align_content": null,
      "align_items": null,
      "align_self": null,
      "border": null,
      "bottom": null,
      "display": null,
      "flex": null,
      "flex_flow": null,
      "grid_area": null,
      "grid_auto_columns": null,
      "grid_auto_flow": null,
      "grid_auto_rows": null,
      "grid_column": null,
      "grid_gap": null,
      "grid_row": null,
      "grid_template_areas": null,
      "grid_template_columns": null,
      "grid_template_rows": null,
      "height": null,
      "justify_content": null,
      "justify_items": null,
      "left": null,
      "margin": null,
      "max_height": null,
      "max_width": null,
      "min_height": null,
      "min_width": null,
      "object_fit": null,
      "object_position": null,
      "order": null,
      "overflow": null,
      "overflow_x": null,
      "overflow_y": null,
      "padding": null,
      "right": null,
      "top": null,
      "visibility": null,
      "width": null
     }
    },
    "eae4f9d829ad432da91ff5a1338f5c35": {
     "model_module": "@jupyter-widgets/controls",
     "model_module_version": "1.5.0",
     "model_name": "HTMLModel",
     "state": {
      "_dom_classes": [],
      "_model_module": "@jupyter-widgets/controls",
      "_model_module_version": "1.5.0",
      "_model_name": "HTMLModel",
      "_view_count": null,
      "_view_module": "@jupyter-widgets/controls",
      "_view_module_version": "1.5.0",
      "_view_name": "HTMLView",
      "description": "",
      "description_tooltip": null,
      "layout": "IPY_MODEL_475848be6d7d4f7799ff3eb1c861b6d4",
      "placeholder": "​",
      "style": "IPY_MODEL_5d432ac985a24d97b7a8288bf1068808",
      "value": "100%"
     }
    },
    "f163ac2d0b1b4b8bafb2a2c58542efd4": {
     "model_module": "@jupyter-widgets/controls",
     "model_module_version": "1.5.0",
     "model_name": "DescriptionStyleModel",
     "state": {
      "_model_module": "@jupyter-widgets/controls",
      "_model_module_version": "1.5.0",
      "_model_name": "DescriptionStyleModel",
      "_view_count": null,
      "_view_module": "@jupyter-widgets/base",
      "_view_module_version": "1.2.0",
      "_view_name": "StyleView",
      "description_width": ""
     }
    },
    "f229e9c9e2094bfcadb6883213209125": {
     "model_module": "@jupyter-widgets/base",
     "model_module_version": "1.2.0",
     "model_name": "LayoutModel",
     "state": {
      "_model_module": "@jupyter-widgets/base",
      "_model_module_version": "1.2.0",
      "_model_name": "LayoutModel",
      "_view_count": null,
      "_view_module": "@jupyter-widgets/base",
      "_view_module_version": "1.2.0",
      "_view_name": "LayoutView",
      "align_content": null,
      "align_items": null,
      "align_self": null,
      "border": null,
      "bottom": null,
      "display": null,
      "flex": null,
      "flex_flow": null,
      "grid_area": null,
      "grid_auto_columns": null,
      "grid_auto_flow": null,
      "grid_auto_rows": null,
      "grid_column": null,
      "grid_gap": null,
      "grid_row": null,
      "grid_template_areas": null,
      "grid_template_columns": null,
      "grid_template_rows": null,
      "height": null,
      "justify_content": null,
      "justify_items": null,
      "left": null,
      "margin": null,
      "max_height": null,
      "max_width": null,
      "min_height": null,
      "min_width": null,
      "object_fit": null,
      "object_position": null,
      "order": null,
      "overflow": null,
      "overflow_x": null,
      "overflow_y": null,
      "padding": null,
      "right": null,
      "top": null,
      "visibility": null,
      "width": null
     }
    }
   }
  }
 },
 "nbformat": 4,
 "nbformat_minor": 5
}
